{
 "cells": [
  {
   "cell_type": "markdown",
   "metadata": {},
   "source": [
    "# App Store 数据分析\n",
    "## 简介\n",
    "\n",
    "本次分析的数据集是 [Mobile App Store (7200 apps)](https://www.kaggle.com/ramamet4/app-store-apple-data-set-10k-apps)，取自 IOS app 商店的数据信息。其中包含了以下数据特征：\n",
    "\n",
    "**appleStore.csv**\n",
    "\n",
    "- `id`: App ID\n",
    "- `track_name`: App 名称\n",
    "- `size_bytes`: 大小 (以 Bytes 为单位)\n",
    "- `currency`: 价格货币单位\n",
    "- `price`: APP 价格\n",
    "- `rating_count_tot`: 用户评分数量 (所有版本的总计)\n",
    "- `rating_count_ver`: 用户评分数量 (当前版本)\n",
    "- `user_rating`: 用户平均评分 (所有版本)\n",
    "- `user_rating_ver`: 用户平均评分 (当前版本)\n",
    "- `ver`: 最新版本号\n",
    "- `cont_rating`: 内容评级\n",
    "- `prime_genre`: 主要类型\n",
    "- `sup_devices.num`: 支持设备数量\n",
    "- `ipadSc_urls.num`: 展示截图的数量\n",
    "- `lang.num`: 支持语言的数量\n",
    "- `vpp_lic`: Vpp Device Based Licensing Enabled\n",
    "\n",
    "**appleStore_description.csv**\n",
    "\n",
    "- `id`: App ID\n",
    "- `track_name`: App 名称\n",
    "- `size_bytes`: 大小 (以 Bytes 为单位)\n",
    "- `app_desc`: APP 描述文字"
   ]
  },
  {
   "cell_type": "markdown",
   "metadata": {},
   "source": [
    "导入数据进行初步了解："
   ]
  },
  {
   "cell_type": "code",
   "execution_count": 1,
   "metadata": {
    "collapsed": true,
    "jupyter": {
     "outputs_hidden": true
    }
   },
   "outputs": [],
   "source": [
    "# 导入常用库\n",
    "import numpy as np \n",
    "import pandas as pd \n",
    "import seaborn as sns\n",
    "import matplotlib.pyplot as plt\n",
    "from pandas.plotting import scatter_matrix\n",
    "%matplotlib inline"
   ]
  },
  {
   "cell_type": "code",
   "execution_count": 2,
   "metadata": {
    "collapsed": true,
    "jupyter": {
     "outputs_hidden": true
    }
   },
   "outputs": [],
   "source": [
    "# 读取数据集\n",
    "df_desc = pd.read_csv('appleStore_description.csv')\n",
    "df_app = pd.read_csv('AppleStore.csv')"
   ]
  },
  {
   "cell_type": "code",
   "execution_count": 3,
   "metadata": {},
   "outputs": [
    {
     "data": {
      "text/html": [
       "<div>\n",
       "<style scoped>\n",
       "    .dataframe tbody tr th:only-of-type {\n",
       "        vertical-align: middle;\n",
       "    }\n",
       "\n",
       "    .dataframe tbody tr th {\n",
       "        vertical-align: top;\n",
       "    }\n",
       "\n",
       "    .dataframe thead th {\n",
       "        text-align: right;\n",
       "    }\n",
       "</style>\n",
       "<table border=\"1\" class=\"dataframe\">\n",
       "  <thead>\n",
       "    <tr style=\"text-align: right;\">\n",
       "      <th></th>\n",
       "      <th>id</th>\n",
       "      <th>track_name</th>\n",
       "      <th>size_bytes</th>\n",
       "      <th>app_desc</th>\n",
       "    </tr>\n",
       "  </thead>\n",
       "  <tbody>\n",
       "    <tr>\n",
       "      <th>0</th>\n",
       "      <td>281656475</td>\n",
       "      <td>PAC-MAN Premium</td>\n",
       "      <td>100788224</td>\n",
       "      <td>SAVE 20%, now only $3.99 for a limited time!\\n...</td>\n",
       "    </tr>\n",
       "    <tr>\n",
       "      <th>1</th>\n",
       "      <td>281796108</td>\n",
       "      <td>Evernote - stay organized</td>\n",
       "      <td>158578688</td>\n",
       "      <td>Let Evernote change the way you organize your ...</td>\n",
       "    </tr>\n",
       "    <tr>\n",
       "      <th>2</th>\n",
       "      <td>281940292</td>\n",
       "      <td>WeatherBug - Local Weather, Radar, Maps, Alerts</td>\n",
       "      <td>100524032</td>\n",
       "      <td>Download the most popular free weather app pow...</td>\n",
       "    </tr>\n",
       "  </tbody>\n",
       "</table>\n",
       "</div>"
      ],
      "text/plain": [
       "          id                                       track_name  size_bytes  \\\n",
       "0  281656475                                  PAC-MAN Premium   100788224   \n",
       "1  281796108                        Evernote - stay organized   158578688   \n",
       "2  281940292  WeatherBug - Local Weather, Radar, Maps, Alerts   100524032   \n",
       "\n",
       "                                            app_desc  \n",
       "0  SAVE 20%, now only $3.99 for a limited time!\\n...  \n",
       "1  Let Evernote change the way you organize your ...  \n",
       "2  Download the most popular free weather app pow...  "
      ]
     },
     "execution_count": 3,
     "metadata": {},
     "output_type": "execute_result"
    }
   ],
   "source": [
    "df_desc.head(3)"
   ]
  },
  {
   "cell_type": "code",
   "execution_count": 4,
   "metadata": {},
   "outputs": [
    {
     "data": {
      "text/html": [
       "<div>\n",
       "<style scoped>\n",
       "    .dataframe tbody tr th:only-of-type {\n",
       "        vertical-align: middle;\n",
       "    }\n",
       "\n",
       "    .dataframe tbody tr th {\n",
       "        vertical-align: top;\n",
       "    }\n",
       "\n",
       "    .dataframe thead th {\n",
       "        text-align: right;\n",
       "    }\n",
       "</style>\n",
       "<table border=\"1\" class=\"dataframe\">\n",
       "  <thead>\n",
       "    <tr style=\"text-align: right;\">\n",
       "      <th></th>\n",
       "      <th>Unnamed: 0</th>\n",
       "      <th>id</th>\n",
       "      <th>track_name</th>\n",
       "      <th>size_bytes</th>\n",
       "      <th>currency</th>\n",
       "      <th>price</th>\n",
       "      <th>rating_count_tot</th>\n",
       "      <th>rating_count_ver</th>\n",
       "      <th>user_rating</th>\n",
       "      <th>user_rating_ver</th>\n",
       "      <th>ver</th>\n",
       "      <th>cont_rating</th>\n",
       "      <th>prime_genre</th>\n",
       "      <th>sup_devices.num</th>\n",
       "      <th>ipadSc_urls.num</th>\n",
       "      <th>lang.num</th>\n",
       "      <th>vpp_lic</th>\n",
       "    </tr>\n",
       "  </thead>\n",
       "  <tbody>\n",
       "    <tr>\n",
       "      <th>0</th>\n",
       "      <td>1</td>\n",
       "      <td>281656475</td>\n",
       "      <td>PAC-MAN Premium</td>\n",
       "      <td>100788224</td>\n",
       "      <td>USD</td>\n",
       "      <td>3.99</td>\n",
       "      <td>21292</td>\n",
       "      <td>26</td>\n",
       "      <td>4.0</td>\n",
       "      <td>4.5</td>\n",
       "      <td>6.3.5</td>\n",
       "      <td>4+</td>\n",
       "      <td>Games</td>\n",
       "      <td>38</td>\n",
       "      <td>5</td>\n",
       "      <td>10</td>\n",
       "      <td>1</td>\n",
       "    </tr>\n",
       "    <tr>\n",
       "      <th>1</th>\n",
       "      <td>2</td>\n",
       "      <td>281796108</td>\n",
       "      <td>Evernote - stay organized</td>\n",
       "      <td>158578688</td>\n",
       "      <td>USD</td>\n",
       "      <td>0.00</td>\n",
       "      <td>161065</td>\n",
       "      <td>26</td>\n",
       "      <td>4.0</td>\n",
       "      <td>3.5</td>\n",
       "      <td>8.2.2</td>\n",
       "      <td>4+</td>\n",
       "      <td>Productivity</td>\n",
       "      <td>37</td>\n",
       "      <td>5</td>\n",
       "      <td>23</td>\n",
       "      <td>1</td>\n",
       "    </tr>\n",
       "    <tr>\n",
       "      <th>2</th>\n",
       "      <td>3</td>\n",
       "      <td>281940292</td>\n",
       "      <td>WeatherBug - Local Weather, Radar, Maps, Alerts</td>\n",
       "      <td>100524032</td>\n",
       "      <td>USD</td>\n",
       "      <td>0.00</td>\n",
       "      <td>188583</td>\n",
       "      <td>2822</td>\n",
       "      <td>3.5</td>\n",
       "      <td>4.5</td>\n",
       "      <td>5.0.0</td>\n",
       "      <td>4+</td>\n",
       "      <td>Weather</td>\n",
       "      <td>37</td>\n",
       "      <td>5</td>\n",
       "      <td>3</td>\n",
       "      <td>1</td>\n",
       "    </tr>\n",
       "  </tbody>\n",
       "</table>\n",
       "</div>"
      ],
      "text/plain": [
       "   Unnamed: 0         id                                       track_name  \\\n",
       "0           1  281656475                                  PAC-MAN Premium   \n",
       "1           2  281796108                        Evernote - stay organized   \n",
       "2           3  281940292  WeatherBug - Local Weather, Radar, Maps, Alerts   \n",
       "\n",
       "   size_bytes currency  price  rating_count_tot  rating_count_ver  \\\n",
       "0   100788224      USD   3.99             21292                26   \n",
       "1   158578688      USD   0.00            161065                26   \n",
       "2   100524032      USD   0.00            188583              2822   \n",
       "\n",
       "   user_rating  user_rating_ver    ver cont_rating   prime_genre  \\\n",
       "0          4.0              4.5  6.3.5          4+         Games   \n",
       "1          4.0              3.5  8.2.2          4+  Productivity   \n",
       "2          3.5              4.5  5.0.0          4+       Weather   \n",
       "\n",
       "   sup_devices.num  ipadSc_urls.num  lang.num  vpp_lic  \n",
       "0               38                5        10        1  \n",
       "1               37                5        23        1  \n",
       "2               37                5         3        1  "
      ]
     },
     "execution_count": 4,
     "metadata": {},
     "output_type": "execute_result"
    }
   ],
   "source": [
    "df_app.head(3)"
   ]
  },
  {
   "cell_type": "code",
   "execution_count": 5,
   "metadata": {},
   "outputs": [
    {
     "data": {
      "text/html": [
       "<div>\n",
       "<style scoped>\n",
       "    .dataframe tbody tr th:only-of-type {\n",
       "        vertical-align: middle;\n",
       "    }\n",
       "\n",
       "    .dataframe tbody tr th {\n",
       "        vertical-align: top;\n",
       "    }\n",
       "\n",
       "    .dataframe thead th {\n",
       "        text-align: right;\n",
       "    }\n",
       "</style>\n",
       "<table border=\"1\" class=\"dataframe\">\n",
       "  <thead>\n",
       "    <tr style=\"text-align: right;\">\n",
       "      <th></th>\n",
       "      <th>id</th>\n",
       "      <th>track_name</th>\n",
       "      <th>size_bytes</th>\n",
       "      <th>app_desc</th>\n",
       "    </tr>\n",
       "  </thead>\n",
       "  <tbody>\n",
       "    <tr>\n",
       "      <th>4129</th>\n",
       "      <td>1024374740</td>\n",
       "      <td>Dirt Racing Mobile 3D</td>\n",
       "      <td>233611264</td>\n",
       "      <td>* FREE DEMO AVAILABLE - Dirt Racing Mobile 3D ...</td>\n",
       "    </tr>\n",
       "    <tr>\n",
       "      <th>161</th>\n",
       "      <td>320029256</td>\n",
       "      <td>Whole Foods Market</td>\n",
       "      <td>137312256</td>\n",
       "      <td>Make your life simpler, healthier and more del...</td>\n",
       "    </tr>\n",
       "    <tr>\n",
       "      <th>670</th>\n",
       "      <td>413511993</td>\n",
       "      <td>Weather Radio by WDT</td>\n",
       "      <td>22879232</td>\n",
       "      <td>Weather Radio enables you to receive critical ...</td>\n",
       "    </tr>\n",
       "    <tr>\n",
       "      <th>4120</th>\n",
       "      <td>1023681711</td>\n",
       "      <td>Dr. Panda Firefighters</td>\n",
       "      <td>230628352</td>\n",
       "      <td>FIGHT FIRES AND SAVE THE DAY!\\nWork together w...</td>\n",
       "    </tr>\n",
       "    <tr>\n",
       "      <th>3208</th>\n",
       "      <td>943869618</td>\n",
       "      <td>Toca Kitchen 2</td>\n",
       "      <td>112056320</td>\n",
       "      <td>The wildly popular Toca Kitchen is back! With ...</td>\n",
       "    </tr>\n",
       "  </tbody>\n",
       "</table>\n",
       "</div>"
      ],
      "text/plain": [
       "              id              track_name  size_bytes  \\\n",
       "4129  1024374740   Dirt Racing Mobile 3D   233611264   \n",
       "161    320029256      Whole Foods Market   137312256   \n",
       "670    413511993    Weather Radio by WDT    22879232   \n",
       "4120  1023681711  Dr. Panda Firefighters   230628352   \n",
       "3208   943869618          Toca Kitchen 2   112056320   \n",
       "\n",
       "                                               app_desc  \n",
       "4129  * FREE DEMO AVAILABLE - Dirt Racing Mobile 3D ...  \n",
       "161   Make your life simpler, healthier and more del...  \n",
       "670   Weather Radio enables you to receive critical ...  \n",
       "4120  FIGHT FIRES AND SAVE THE DAY!\\nWork together w...  \n",
       "3208  The wildly popular Toca Kitchen is back! With ...  "
      ]
     },
     "execution_count": 5,
     "metadata": {},
     "output_type": "execute_result"
    }
   ],
   "source": [
    "df_desc.sample(5)"
   ]
  },
  {
   "cell_type": "markdown",
   "metadata": {},
   "source": [
    "### 提出想要探索的问题：\n",
    "\n",
    "- 这些 APP 的价格分布如何，免费应用所占比例是多少？\n",
    "- 总评分与价格有没有相关性？\n",
    "- 游戏类与非游戏类 APP 的收费情况？\n",
    "- 游戏类与非游戏类 APP 的评分分布差异？\n"
   ]
  },
  {
   "cell_type": "markdown",
   "metadata": {},
   "source": [
    "## 数据整理\n",
    "### 数据评估"
   ]
  },
  {
   "cell_type": "code",
   "execution_count": 6,
   "metadata": {},
   "outputs": [
    {
     "name": "stdout",
     "output_type": "stream",
     "text": [
      "<class 'pandas.core.frame.DataFrame'>\n",
      "RangeIndex: 7197 entries, 0 to 7196\n",
      "Data columns (total 4 columns):\n",
      "id            7197 non-null int64\n",
      "track_name    7197 non-null object\n",
      "size_bytes    7197 non-null int64\n",
      "app_desc      7197 non-null object\n",
      "dtypes: int64(2), object(2)\n",
      "memory usage: 225.0+ KB\n"
     ]
    }
   ],
   "source": [
    "df_desc.info()"
   ]
  },
  {
   "cell_type": "code",
   "execution_count": 7,
   "metadata": {
    "collapsed": true,
    "jupyter": {
     "outputs_hidden": true
    }
   },
   "outputs": [
    {
     "name": "stdout",
     "output_type": "stream",
     "text": [
      "<class 'pandas.core.frame.DataFrame'>\n",
      "RangeIndex: 7197 entries, 0 to 7196\n",
      "Data columns (total 17 columns):\n",
      "Unnamed: 0          7197 non-null int64\n",
      "id                  7197 non-null int64\n",
      "track_name          7197 non-null object\n",
      "size_bytes          7197 non-null int64\n",
      "currency            7197 non-null object\n",
      "price               7197 non-null float64\n",
      "rating_count_tot    7197 non-null int64\n",
      "rating_count_ver    7197 non-null int64\n",
      "user_rating         7197 non-null float64\n",
      "user_rating_ver     7197 non-null float64\n",
      "ver                 7197 non-null object\n",
      "cont_rating         7197 non-null object\n",
      "prime_genre         7197 non-null object\n",
      "sup_devices.num     7197 non-null int64\n",
      "ipadSc_urls.num     7197 non-null int64\n",
      "lang.num            7197 non-null int64\n",
      "vpp_lic             7197 non-null int64\n",
      "dtypes: float64(3), int64(9), object(5)\n",
      "memory usage: 955.9+ KB\n"
     ]
    }
   ],
   "source": [
    "df_app.info()"
   ]
  },
  {
   "cell_type": "code",
   "execution_count": 8,
   "metadata": {},
   "outputs": [
    {
     "data": {
      "text/plain": [
       "0"
      ]
     },
     "execution_count": 8,
     "metadata": {},
     "output_type": "execute_result"
    }
   ],
   "source": [
    "df_desc.id.duplicated().sum()"
   ]
  },
  {
   "cell_type": "code",
   "execution_count": 9,
   "metadata": {},
   "outputs": [
    {
     "data": {
      "text/plain": [
       "0"
      ]
     },
     "execution_count": 9,
     "metadata": {},
     "output_type": "execute_result"
    }
   ],
   "source": [
    "df_app.id.duplicated().sum()"
   ]
  },
  {
   "cell_type": "code",
   "execution_count": 10,
   "metadata": {},
   "outputs": [
    {
     "data": {
      "text/html": [
       "<div>\n",
       "<style scoped>\n",
       "    .dataframe tbody tr th:only-of-type {\n",
       "        vertical-align: middle;\n",
       "    }\n",
       "\n",
       "    .dataframe tbody tr th {\n",
       "        vertical-align: top;\n",
       "    }\n",
       "\n",
       "    .dataframe thead th {\n",
       "        text-align: right;\n",
       "    }\n",
       "</style>\n",
       "<table border=\"1\" class=\"dataframe\">\n",
       "  <thead>\n",
       "    <tr style=\"text-align: right;\">\n",
       "      <th></th>\n",
       "      <th>Unnamed: 0</th>\n",
       "      <th>id</th>\n",
       "      <th>size_bytes</th>\n",
       "      <th>price</th>\n",
       "      <th>rating_count_tot</th>\n",
       "      <th>rating_count_ver</th>\n",
       "      <th>user_rating</th>\n",
       "      <th>user_rating_ver</th>\n",
       "      <th>sup_devices.num</th>\n",
       "      <th>ipadSc_urls.num</th>\n",
       "      <th>lang.num</th>\n",
       "      <th>vpp_lic</th>\n",
       "    </tr>\n",
       "  </thead>\n",
       "  <tbody>\n",
       "    <tr>\n",
       "      <th>count</th>\n",
       "      <td>7197.000000</td>\n",
       "      <td>7.197000e+03</td>\n",
       "      <td>7.197000e+03</td>\n",
       "      <td>7197.000000</td>\n",
       "      <td>7.197000e+03</td>\n",
       "      <td>7197.000000</td>\n",
       "      <td>7197.000000</td>\n",
       "      <td>7197.000000</td>\n",
       "      <td>7197.000000</td>\n",
       "      <td>7197.000000</td>\n",
       "      <td>7197.000000</td>\n",
       "      <td>7197.000000</td>\n",
       "    </tr>\n",
       "    <tr>\n",
       "      <th>mean</th>\n",
       "      <td>4759.069612</td>\n",
       "      <td>8.631310e+08</td>\n",
       "      <td>1.991345e+08</td>\n",
       "      <td>1.726218</td>\n",
       "      <td>1.289291e+04</td>\n",
       "      <td>460.373906</td>\n",
       "      <td>3.526956</td>\n",
       "      <td>3.253578</td>\n",
       "      <td>37.361817</td>\n",
       "      <td>3.707100</td>\n",
       "      <td>5.434903</td>\n",
       "      <td>0.993053</td>\n",
       "    </tr>\n",
       "    <tr>\n",
       "      <th>std</th>\n",
       "      <td>3093.625213</td>\n",
       "      <td>2.712368e+08</td>\n",
       "      <td>3.592069e+08</td>\n",
       "      <td>5.833006</td>\n",
       "      <td>7.573941e+04</td>\n",
       "      <td>3920.455183</td>\n",
       "      <td>1.517948</td>\n",
       "      <td>1.809363</td>\n",
       "      <td>3.737715</td>\n",
       "      <td>1.986005</td>\n",
       "      <td>7.919593</td>\n",
       "      <td>0.083066</td>\n",
       "    </tr>\n",
       "    <tr>\n",
       "      <th>min</th>\n",
       "      <td>1.000000</td>\n",
       "      <td>2.816565e+08</td>\n",
       "      <td>5.898240e+05</td>\n",
       "      <td>0.000000</td>\n",
       "      <td>0.000000e+00</td>\n",
       "      <td>0.000000</td>\n",
       "      <td>0.000000</td>\n",
       "      <td>0.000000</td>\n",
       "      <td>9.000000</td>\n",
       "      <td>0.000000</td>\n",
       "      <td>0.000000</td>\n",
       "      <td>0.000000</td>\n",
       "    </tr>\n",
       "    <tr>\n",
       "      <th>25%</th>\n",
       "      <td>2090.000000</td>\n",
       "      <td>6.000937e+08</td>\n",
       "      <td>4.692275e+07</td>\n",
       "      <td>0.000000</td>\n",
       "      <td>2.800000e+01</td>\n",
       "      <td>1.000000</td>\n",
       "      <td>3.500000</td>\n",
       "      <td>2.500000</td>\n",
       "      <td>37.000000</td>\n",
       "      <td>3.000000</td>\n",
       "      <td>1.000000</td>\n",
       "      <td>1.000000</td>\n",
       "    </tr>\n",
       "    <tr>\n",
       "      <th>50%</th>\n",
       "      <td>4380.000000</td>\n",
       "      <td>9.781482e+08</td>\n",
       "      <td>9.715302e+07</td>\n",
       "      <td>0.000000</td>\n",
       "      <td>3.000000e+02</td>\n",
       "      <td>23.000000</td>\n",
       "      <td>4.000000</td>\n",
       "      <td>4.000000</td>\n",
       "      <td>37.000000</td>\n",
       "      <td>5.000000</td>\n",
       "      <td>1.000000</td>\n",
       "      <td>1.000000</td>\n",
       "    </tr>\n",
       "    <tr>\n",
       "      <th>75%</th>\n",
       "      <td>7223.000000</td>\n",
       "      <td>1.082310e+09</td>\n",
       "      <td>1.819249e+08</td>\n",
       "      <td>1.990000</td>\n",
       "      <td>2.793000e+03</td>\n",
       "      <td>140.000000</td>\n",
       "      <td>4.500000</td>\n",
       "      <td>4.500000</td>\n",
       "      <td>38.000000</td>\n",
       "      <td>5.000000</td>\n",
       "      <td>8.000000</td>\n",
       "      <td>1.000000</td>\n",
       "    </tr>\n",
       "    <tr>\n",
       "      <th>max</th>\n",
       "      <td>11097.000000</td>\n",
       "      <td>1.188376e+09</td>\n",
       "      <td>4.025970e+09</td>\n",
       "      <td>299.990000</td>\n",
       "      <td>2.974676e+06</td>\n",
       "      <td>177050.000000</td>\n",
       "      <td>5.000000</td>\n",
       "      <td>5.000000</td>\n",
       "      <td>47.000000</td>\n",
       "      <td>5.000000</td>\n",
       "      <td>75.000000</td>\n",
       "      <td>1.000000</td>\n",
       "    </tr>\n",
       "  </tbody>\n",
       "</table>\n",
       "</div>"
      ],
      "text/plain": [
       "         Unnamed: 0            id    size_bytes        price  \\\n",
       "count   7197.000000  7.197000e+03  7.197000e+03  7197.000000   \n",
       "mean    4759.069612  8.631310e+08  1.991345e+08     1.726218   \n",
       "std     3093.625213  2.712368e+08  3.592069e+08     5.833006   \n",
       "min        1.000000  2.816565e+08  5.898240e+05     0.000000   \n",
       "25%     2090.000000  6.000937e+08  4.692275e+07     0.000000   \n",
       "50%     4380.000000  9.781482e+08  9.715302e+07     0.000000   \n",
       "75%     7223.000000  1.082310e+09  1.819249e+08     1.990000   \n",
       "max    11097.000000  1.188376e+09  4.025970e+09   299.990000   \n",
       "\n",
       "       rating_count_tot  rating_count_ver  user_rating  user_rating_ver  \\\n",
       "count      7.197000e+03       7197.000000  7197.000000      7197.000000   \n",
       "mean       1.289291e+04        460.373906     3.526956         3.253578   \n",
       "std        7.573941e+04       3920.455183     1.517948         1.809363   \n",
       "min        0.000000e+00          0.000000     0.000000         0.000000   \n",
       "25%        2.800000e+01          1.000000     3.500000         2.500000   \n",
       "50%        3.000000e+02         23.000000     4.000000         4.000000   \n",
       "75%        2.793000e+03        140.000000     4.500000         4.500000   \n",
       "max        2.974676e+06     177050.000000     5.000000         5.000000   \n",
       "\n",
       "       sup_devices.num  ipadSc_urls.num     lang.num      vpp_lic  \n",
       "count      7197.000000      7197.000000  7197.000000  7197.000000  \n",
       "mean         37.361817         3.707100     5.434903     0.993053  \n",
       "std           3.737715         1.986005     7.919593     0.083066  \n",
       "min           9.000000         0.000000     0.000000     0.000000  \n",
       "25%          37.000000         3.000000     1.000000     1.000000  \n",
       "50%          37.000000         5.000000     1.000000     1.000000  \n",
       "75%          38.000000         5.000000     8.000000     1.000000  \n",
       "max          47.000000         5.000000    75.000000     1.000000  "
      ]
     },
     "execution_count": 10,
     "metadata": {},
     "output_type": "execute_result"
    }
   ],
   "source": [
    "df_app.describe()"
   ]
  },
  {
   "cell_type": "code",
   "execution_count": 11,
   "metadata": {},
   "outputs": [
    {
     "data": {
      "text/plain": [
       "0.00      4056\n",
       "0.99       728\n",
       "2.99       683\n",
       "1.99       621\n",
       "4.99       394\n",
       "3.99       277\n",
       "6.99       166\n",
       "9.99        81\n",
       "5.99        52\n",
       "7.99        33\n",
       "14.99       21\n",
       "19.99       13\n",
       "8.99         9\n",
       "24.99        8\n",
       "13.99        6\n",
       "11.99        6\n",
       "29.99        6\n",
       "12.99        5\n",
       "15.99        4\n",
       "59.99        3\n",
       "17.99        3\n",
       "22.99        2\n",
       "23.99        2\n",
       "20.99        2\n",
       "27.99        2\n",
       "16.99        2\n",
       "49.99        2\n",
       "39.99        2\n",
       "74.99        1\n",
       "18.99        1\n",
       "34.99        1\n",
       "99.99        1\n",
       "299.99       1\n",
       "47.99        1\n",
       "21.99        1\n",
       "249.99       1\n",
       "Name: price, dtype: int64"
      ]
     },
     "execution_count": 11,
     "metadata": {},
     "output_type": "execute_result"
    }
   ],
   "source": [
    "df_app['price'].value_counts() # 可以进行 cut 分段"
   ]
  },
  {
   "cell_type": "code",
   "execution_count": 12,
   "metadata": {},
   "outputs": [
    {
     "data": {
      "text/plain": [
       "4.5    2663\n",
       "4.0    1626\n",
       "0.0     929\n",
       "3.5     702\n",
       "5.0     492\n",
       "3.0     383\n",
       "2.5     196\n",
       "2.0     106\n",
       "1.5      56\n",
       "1.0      44\n",
       "Name: user_rating, dtype: int64"
      ]
     },
     "execution_count": 12,
     "metadata": {},
     "output_type": "execute_result"
    }
   ],
   "source": [
    "df_app['user_rating'].value_counts()"
   ]
  },
  {
   "cell_type": "code",
   "execution_count": 13,
   "metadata": {},
   "outputs": [
    {
     "data": {
      "text/plain": [
       "4.5    2205\n",
       "0.0    1443\n",
       "4.0    1237\n",
       "5.0     964\n",
       "3.5     533\n",
       "3.0     304\n",
       "2.5     176\n",
       "2.0     136\n",
       "1.0     125\n",
       "1.5      74\n",
       "Name: user_rating_ver, dtype: int64"
      ]
     },
     "execution_count": 13,
     "metadata": {},
     "output_type": "execute_result"
    }
   ],
   "source": [
    "df_app['user_rating_ver'].value_counts()"
   ]
  },
  {
   "cell_type": "code",
   "execution_count": 14,
   "metadata": {},
   "outputs": [
    {
     "data": {
      "text/plain": [
       "(7197, 17)"
      ]
     },
     "execution_count": 14,
     "metadata": {},
     "output_type": "execute_result"
    }
   ],
   "source": [
    "df_app.shape"
   ]
  },
  {
   "cell_type": "code",
   "execution_count": 15,
   "metadata": {},
   "outputs": [
    {
     "data": {
      "text/plain": [
       "Games                0.536612\n",
       "Entertainment        0.074337\n",
       "Education            0.062943\n",
       "Photo & Video        0.048492\n",
       "Utilities            0.034459\n",
       "Health & Fitness     0.025010\n",
       "Productivity         0.024733\n",
       "Social Networking    0.023204\n",
       "Lifestyle            0.020008\n",
       "Music                0.019175\n",
       "Shopping             0.016952\n",
       "Sports               0.015840\n",
       "Book                 0.015562\n",
       "Finance              0.014450\n",
       "Travel               0.011255\n",
       "News                 0.010421\n",
       "Weather              0.010004\n",
       "Reference            0.008893\n",
       "Food & Drink         0.008754\n",
       "Business             0.007920\n",
       "Navigation           0.006392\n",
       "Medical              0.003196\n",
       "Catalogs             0.001389\n",
       "Name: prime_genre, dtype: float64"
      ]
     },
     "execution_count": 15,
     "metadata": {},
     "output_type": "execute_result"
    }
   ],
   "source": [
    "df_app['prime_genre'].value_counts()/df_app.shape[0]"
   ]
  },
  {
   "cell_type": "code",
   "execution_count": 16,
   "metadata": {},
   "outputs": [
    {
     "data": {
      "text/plain": [
       "array(['4+', '12+', '17+', '9+'], dtype=object)"
      ]
     },
     "execution_count": 16,
     "metadata": {},
     "output_type": "execute_result"
    }
   ],
   "source": [
    "df_app.cont_rating.unique()"
   ]
  },
  {
   "cell_type": "markdown",
   "metadata": {},
   "source": [
    "### 数据清洗\n",
    "\n",
    "针对最开始提出的问题，以及对数据的更详细的评估我们可以对数据进行以下处理：\n",
    "\n",
    "- 将 `df_desc` 中的 `app_desc` 列合并到 `df_app` 中\n",
    "- 删除不需要的数据列（`Unnamed: 0`,`currency`,`vpp_lic`）\n",
    "- 将列名中的 `.` 修改为 `_`\n",
    "- `id` 列修改为字符串类型\n",
    "- 对 `prize` 进行 `cut` 分段，创建新的分类变量 `price_cut`"
   ]
  },
  {
   "cell_type": "code",
   "execution_count": 17,
   "metadata": {},
   "outputs": [
    {
     "name": "stdout",
     "output_type": "stream",
     "text": [
      "<class 'pandas.core.frame.DataFrame'>\n",
      "Int64Index: 7197 entries, 0 to 7196\n",
      "Data columns (total 18 columns):\n",
      "Unnamed: 0          7197 non-null int64\n",
      "id                  7197 non-null int64\n",
      "track_name          7197 non-null object\n",
      "size_bytes          7197 non-null int64\n",
      "currency            7197 non-null object\n",
      "price               7197 non-null float64\n",
      "rating_count_tot    7197 non-null int64\n",
      "rating_count_ver    7197 non-null int64\n",
      "user_rating         7197 non-null float64\n",
      "user_rating_ver     7197 non-null float64\n",
      "ver                 7197 non-null object\n",
      "cont_rating         7197 non-null object\n",
      "prime_genre         7197 non-null object\n",
      "sup_devices.num     7197 non-null int64\n",
      "ipadSc_urls.num     7197 non-null int64\n",
      "lang.num            7197 non-null int64\n",
      "vpp_lic             7197 non-null int64\n",
      "app_desc            7197 non-null object\n",
      "dtypes: float64(3), int64(9), object(6)\n",
      "memory usage: 1.0+ MB\n"
     ]
    }
   ],
   "source": [
    "df = pd.merge(df_app,df_desc[['id','app_desc']],on='id')\n",
    "df.info()"
   ]
  },
  {
   "cell_type": "code",
   "execution_count": 18,
   "metadata": {},
   "outputs": [
    {
     "data": {
      "text/plain": [
       "Index(['id', 'track_name', 'size_bytes', 'price', 'rating_count_tot',\n",
       "       'rating_count_ver', 'user_rating', 'user_rating_ver', 'ver',\n",
       "       'cont_rating', 'prime_genre', 'sup_devices_num', 'ipadSc_urls_num',\n",
       "       'lang_num', 'app_desc'],\n",
       "      dtype='object')"
      ]
     },
     "execution_count": 18,
     "metadata": {},
     "output_type": "execute_result"
    }
   ],
   "source": [
    "df.drop(['Unnamed: 0','currency','vpp_lic'],axis=1,inplace=True)\n",
    "df = df.rename(columns={c: c.replace('.', '_') for c in df_app.columns})\n",
    "df.columns"
   ]
  },
  {
   "cell_type": "code",
   "execution_count": 19,
   "metadata": {},
   "outputs": [
    {
     "data": {
      "text/plain": [
       "dtype('O')"
      ]
     },
     "execution_count": 19,
     "metadata": {},
     "output_type": "execute_result"
    }
   ],
   "source": [
    "df.id = df.id.astype('str')\n",
    "df.id.dtype"
   ]
  },
  {
   "cell_type": "code",
   "execution_count": 20,
   "metadata": {
    "collapsed": true,
    "jupyter": {
     "outputs_hidden": true
    }
   },
   "outputs": [],
   "source": [
    "price_labels = ['Free','USD:0~5','USD:5~20','USD:20+']\n",
    "df['price_cut'] = pd.cut(df['price'],bins=[-1,0,5,20,300],labels=price_labels)"
   ]
  },
  {
   "cell_type": "code",
   "execution_count": 21,
   "metadata": {},
   "outputs": [
    {
     "data": {
      "text/plain": [
       "Free        4056\n",
       "USD:0~5     2703\n",
       "USD:5~20     402\n",
       "USD:20+       36\n",
       "Name: price_cut, dtype: int64"
      ]
     },
     "execution_count": 21,
     "metadata": {},
     "output_type": "execute_result"
    }
   ],
   "source": [
    "df['price_cut'].value_counts()"
   ]
  },
  {
   "cell_type": "code",
   "execution_count": 22,
   "metadata": {
    "collapsed": true,
    "jupyter": {
     "outputs_hidden": true
    }
   },
   "outputs": [],
   "source": [
    "df['is_Game'] = df['prime_genre'] == 'Games'\n",
    "df['is_Game'].replace([True,False],['Games','NotGames'],inplace=True)"
   ]
  },
  {
   "cell_type": "code",
   "execution_count": 23,
   "metadata": {},
   "outputs": [
    {
     "data": {
      "text/plain": [
       "Games       3862\n",
       "NotGames    3335\n",
       "Name: is_Game, dtype: int64"
      ]
     },
     "execution_count": 23,
     "metadata": {},
     "output_type": "execute_result"
    }
   ],
   "source": [
    "df['is_Game'].value_counts()"
   ]
  },
  {
   "cell_type": "code",
   "execution_count": 24,
   "metadata": {},
   "outputs": [
    {
     "name": "stdout",
     "output_type": "stream",
     "text": [
      "<class 'pandas.core.frame.DataFrame'>\n",
      "Int64Index: 7197 entries, 0 to 7196\n",
      "Data columns (total 17 columns):\n",
      "id                  7197 non-null object\n",
      "track_name          7197 non-null object\n",
      "size_bytes          7197 non-null int64\n",
      "price               7197 non-null float64\n",
      "rating_count_tot    7197 non-null int64\n",
      "rating_count_ver    7197 non-null int64\n",
      "user_rating         7197 non-null float64\n",
      "user_rating_ver     7197 non-null float64\n",
      "ver                 7197 non-null object\n",
      "cont_rating         7197 non-null object\n",
      "prime_genre         7197 non-null object\n",
      "sup_devices_num     7197 non-null int64\n",
      "ipadSc_urls_num     7197 non-null int64\n",
      "lang_num            7197 non-null int64\n",
      "app_desc            7197 non-null object\n",
      "price_cut           7197 non-null category\n",
      "is_Game             7197 non-null object\n",
      "dtypes: category(1), float64(3), int64(6), object(7)\n",
      "memory usage: 963.1+ KB\n"
     ]
    }
   ],
   "source": [
    "df.info()"
   ]
  },
  {
   "cell_type": "code",
   "execution_count": 25,
   "metadata": {},
   "outputs": [
    {
     "data": {
      "text/html": [
       "<div>\n",
       "<style scoped>\n",
       "    .dataframe tbody tr th:only-of-type {\n",
       "        vertical-align: middle;\n",
       "    }\n",
       "\n",
       "    .dataframe tbody tr th {\n",
       "        vertical-align: top;\n",
       "    }\n",
       "\n",
       "    .dataframe thead th {\n",
       "        text-align: right;\n",
       "    }\n",
       "</style>\n",
       "<table border=\"1\" class=\"dataframe\">\n",
       "  <thead>\n",
       "    <tr style=\"text-align: right;\">\n",
       "      <th></th>\n",
       "      <th>id</th>\n",
       "      <th>track_name</th>\n",
       "      <th>size_bytes</th>\n",
       "      <th>price</th>\n",
       "      <th>rating_count_tot</th>\n",
       "      <th>rating_count_ver</th>\n",
       "      <th>user_rating</th>\n",
       "      <th>user_rating_ver</th>\n",
       "      <th>ver</th>\n",
       "      <th>cont_rating</th>\n",
       "      <th>prime_genre</th>\n",
       "      <th>sup_devices_num</th>\n",
       "      <th>ipadSc_urls_num</th>\n",
       "      <th>lang_num</th>\n",
       "      <th>app_desc</th>\n",
       "      <th>price_cut</th>\n",
       "      <th>is_Game</th>\n",
       "    </tr>\n",
       "  </thead>\n",
       "  <tbody>\n",
       "    <tr>\n",
       "      <th>0</th>\n",
       "      <td>281656475</td>\n",
       "      <td>PAC-MAN Premium</td>\n",
       "      <td>100788224</td>\n",
       "      <td>3.99</td>\n",
       "      <td>21292</td>\n",
       "      <td>26</td>\n",
       "      <td>4.0</td>\n",
       "      <td>4.5</td>\n",
       "      <td>6.3.5</td>\n",
       "      <td>4+</td>\n",
       "      <td>Games</td>\n",
       "      <td>38</td>\n",
       "      <td>5</td>\n",
       "      <td>10</td>\n",
       "      <td>SAVE 20%, now only $3.99 for a limited time!\\n...</td>\n",
       "      <td>USD:0~5</td>\n",
       "      <td>Games</td>\n",
       "    </tr>\n",
       "    <tr>\n",
       "      <th>1</th>\n",
       "      <td>281796108</td>\n",
       "      <td>Evernote - stay organized</td>\n",
       "      <td>158578688</td>\n",
       "      <td>0.00</td>\n",
       "      <td>161065</td>\n",
       "      <td>26</td>\n",
       "      <td>4.0</td>\n",
       "      <td>3.5</td>\n",
       "      <td>8.2.2</td>\n",
       "      <td>4+</td>\n",
       "      <td>Productivity</td>\n",
       "      <td>37</td>\n",
       "      <td>5</td>\n",
       "      <td>23</td>\n",
       "      <td>Let Evernote change the way you organize your ...</td>\n",
       "      <td>Free</td>\n",
       "      <td>NotGames</td>\n",
       "    </tr>\n",
       "    <tr>\n",
       "      <th>2</th>\n",
       "      <td>281940292</td>\n",
       "      <td>WeatherBug - Local Weather, Radar, Maps, Alerts</td>\n",
       "      <td>100524032</td>\n",
       "      <td>0.00</td>\n",
       "      <td>188583</td>\n",
       "      <td>2822</td>\n",
       "      <td>3.5</td>\n",
       "      <td>4.5</td>\n",
       "      <td>5.0.0</td>\n",
       "      <td>4+</td>\n",
       "      <td>Weather</td>\n",
       "      <td>37</td>\n",
       "      <td>5</td>\n",
       "      <td>3</td>\n",
       "      <td>Download the most popular free weather app pow...</td>\n",
       "      <td>Free</td>\n",
       "      <td>NotGames</td>\n",
       "    </tr>\n",
       "  </tbody>\n",
       "</table>\n",
       "</div>"
      ],
      "text/plain": [
       "          id                                       track_name  size_bytes  \\\n",
       "0  281656475                                  PAC-MAN Premium   100788224   \n",
       "1  281796108                        Evernote - stay organized   158578688   \n",
       "2  281940292  WeatherBug - Local Weather, Radar, Maps, Alerts   100524032   \n",
       "\n",
       "   price  rating_count_tot  rating_count_ver  user_rating  user_rating_ver  \\\n",
       "0   3.99             21292                26          4.0              4.5   \n",
       "1   0.00            161065                26          4.0              3.5   \n",
       "2   0.00            188583              2822          3.5              4.5   \n",
       "\n",
       "     ver cont_rating   prime_genre  sup_devices_num  ipadSc_urls_num  \\\n",
       "0  6.3.5          4+         Games               38                5   \n",
       "1  8.2.2          4+  Productivity               37                5   \n",
       "2  5.0.0          4+       Weather               37                5   \n",
       "\n",
       "   lang_num                                           app_desc price_cut  \\\n",
       "0        10  SAVE 20%, now only $3.99 for a limited time!\\n...   USD:0~5   \n",
       "1        23  Let Evernote change the way you organize your ...      Free   \n",
       "2         3  Download the most popular free weather app pow...      Free   \n",
       "\n",
       "    is_Game  \n",
       "0     Games  \n",
       "1  NotGames  \n",
       "2  NotGames  "
      ]
     },
     "execution_count": 25,
     "metadata": {},
     "output_type": "execute_result"
    }
   ],
   "source": [
    "df.head(3)"
   ]
  },
  {
   "cell_type": "markdown",
   "metadata": {},
   "source": [
    "在数据清洗后，获得了一份整洁的数据集，可以用来探索最开始提出的问题：\n",
    "\n",
    "## 探索数据\n",
    "### APP 的价格分布如何，免费应用所占比例是多少？"
   ]
  },
  {
   "cell_type": "code",
   "execution_count": 26,
   "metadata": {},
   "outputs": [
    {
     "data": {
      "image/png": "[encoded data removed]",
      "text/plain": [
       "<Figure size 432x288 with 1 Axes>"
      ]
     },
     "metadata": {},
     "output_type": "display_data"
    }
   ],
   "source": [
    "df['price'].hist(bins=30,figsize=(6,4))\n",
    "plt.title('Price Distribution')\n",
    "plt.ylabel('Frequency')\n",
    "plt.xlabel('Price');"
   ]
  },
  {
   "cell_type": "markdown",
   "metadata": {},
   "source": [
    "可以看出 price 是非常偏斜的分布，大部分都在0-20的范围内。"
   ]
  },
  {
   "cell_type": "code",
   "execution_count": 27,
   "metadata": {},
   "outputs": [
    {
     "data": {
      "image/png": "[encoded data removed]",
      "text/plain": [
       "<Figure size 432x288 with 1 Axes>"
      ]
     },
     "metadata": {},
     "output_type": "display_data"
    }
   ],
   "source": [
    "# showfliers=False 不显示离群值\n",
    "df['price'].plot.box(showfliers=False,showmeans=True,figsize=(6,4))\n",
    "plt.title('Price Distribution')\n",
    "plt.ylabel('USD');"
   ]
  },
  {
   "cell_type": "markdown",
   "metadata": {},
   "source": [
    "使用箱线图将离群值隐藏之后，可以发现大部分的价格都在 5 美元以下。"
   ]
  },
  {
   "cell_type": "code",
   "execution_count": 28,
   "metadata": {},
   "outputs": [
    {
     "data": {
      "image/png": "[encoded data removed]",
      "text/plain": [
       "<Figure size 432x288 with 1 Axes>"
      ]
     },
     "metadata": {},
     "output_type": "display_data"
    }
   ],
   "source": [
    "df.price_cut.value_counts().plot.bar(figsize=(6,4))\n",
    "plt.title('Price_cut VS Count')\n",
    "plt.ylabel('Count')\n",
    "plt.xlabel('Price_cut');"
   ]
  },
  {
   "cell_type": "markdown",
   "metadata": {},
   "source": [
    "图中可以明确看到分类变量各个类别的数量对比，在价格段 `price_cut` 这列数据中，占据绝大多数的类别是免费和5元以下。"
   ]
  },
  {
   "cell_type": "code",
   "execution_count": 29,
   "metadata": {},
   "outputs": [
    {
     "data": {
      "image/png": "[encoded data removed]",
      "text/plain": [
       "<Figure size 360x360 with 1 Axes>"
      ]
     },
     "metadata": {},
     "output_type": "display_data"
    }
   ],
   "source": [
    "# df.price_cut.value_counts().plot.pie(autopct='%.1f%%',figsize=(5,5))\n",
    "# plt.title('Price_cut VS Percentage');\n",
    "## 使最小的扇形不显示百分比的做法：\n",
    "df.price_cut.value_counts().plot.pie(autopct=lambda pct:'' if pct< 1 else \"{:.1f}%\".format(pct),figsize=(5,5))\n",
    "plt.title('Price_cut VS Percentage');"
   ]
  },
  {
   "cell_type": "markdown",
   "metadata": {},
   "source": [
    "饼图中可以明确看出，免费应用占比为 56.4%，占据一半以上。\n",
    "\n",
    "### 总评分与价格有没有相关性？"
   ]
  },
  {
   "cell_type": "code",
   "execution_count": 30,
   "metadata": {},
   "outputs": [
    {
     "data": {
      "image/png": "[encoded data removed]",
      "text/plain": [
       "<Figure size 432x288 with 1 Axes>"
      ]
     },
     "metadata": {},
     "output_type": "display_data"
    }
   ],
   "source": [
    "df.plot.scatter(x='user_rating',y='price',alpha=0.5)\n",
    "plt.title('user_rating VS price')\n",
    "plt.ylim(-1,50);"
   ]
  },
  {
   "cell_type": "markdown",
   "metadata": {},
   "source": [
    "`price` 的分布存在一些极端值，所以使用 `ylim` 做了限制。因为 `user_rating` 实际上是离散数值，所以出现了一条一条的散点分布情况。\n",
    "图中没有办法观察出明显的相关趋势。\n",
    "\n",
    "我们使用 corr 计算一下相关系数："
   ]
  },
  {
   "cell_type": "code",
   "execution_count": 31,
   "metadata": {},
   "outputs": [
    {
     "data": {
      "text/plain": [
       "0.046601003621424955"
      ]
     },
     "execution_count": 31,
     "metadata": {},
     "output_type": "execute_result"
    }
   ],
   "source": [
    "df['price'].corr(df['user_rating'])"
   ]
  },
  {
   "cell_type": "markdown",
   "metadata": {},
   "source": [
    "可以看到确实相关系数很小，小于0.05。使用 `df.corr()` 可以看到所有数值变量之间的相关系数，可以观察一下有没有较大的相关系数："
   ]
  },
  {
   "cell_type": "code",
   "execution_count": 32,
   "metadata": {},
   "outputs": [
    {
     "data": {
      "text/html": [
       "<div>\n",
       "<style scoped>\n",
       "    .dataframe tbody tr th:only-of-type {\n",
       "        vertical-align: middle;\n",
       "    }\n",
       "\n",
       "    .dataframe tbody tr th {\n",
       "        vertical-align: top;\n",
       "    }\n",
       "\n",
       "    .dataframe thead th {\n",
       "        text-align: right;\n",
       "    }\n",
       "</style>\n",
       "<table border=\"1\" class=\"dataframe\">\n",
       "  <thead>\n",
       "    <tr style=\"text-align: right;\">\n",
       "      <th></th>\n",
       "      <th>size_bytes</th>\n",
       "      <th>price</th>\n",
       "      <th>rating_count_tot</th>\n",
       "      <th>rating_count_ver</th>\n",
       "      <th>user_rating</th>\n",
       "      <th>user_rating_ver</th>\n",
       "      <th>sup_devices_num</th>\n",
       "      <th>ipadSc_urls_num</th>\n",
       "      <th>lang_num</th>\n",
       "    </tr>\n",
       "  </thead>\n",
       "  <tbody>\n",
       "    <tr>\n",
       "      <th>size_bytes</th>\n",
       "      <td>1.000000</td>\n",
       "      <td>0.182392</td>\n",
       "      <td>0.004486</td>\n",
       "      <td>0.006337</td>\n",
       "      <td>0.066256</td>\n",
       "      <td>0.086075</td>\n",
       "      <td>-0.118347</td>\n",
       "      <td>0.152697</td>\n",
       "      <td>0.004614</td>\n",
       "    </tr>\n",
       "    <tr>\n",
       "      <th>price</th>\n",
       "      <td>0.182392</td>\n",
       "      <td>1.000000</td>\n",
       "      <td>-0.039044</td>\n",
       "      <td>-0.018012</td>\n",
       "      <td>0.046601</td>\n",
       "      <td>0.025173</td>\n",
       "      <td>-0.115361</td>\n",
       "      <td>0.066100</td>\n",
       "      <td>-0.006713</td>\n",
       "    </tr>\n",
       "    <tr>\n",
       "      <th>rating_count_tot</th>\n",
       "      <td>0.004486</td>\n",
       "      <td>-0.039044</td>\n",
       "      <td>1.000000</td>\n",
       "      <td>0.163645</td>\n",
       "      <td>0.083310</td>\n",
       "      <td>0.088744</td>\n",
       "      <td>0.008832</td>\n",
       "      <td>0.015734</td>\n",
       "      <td>0.137675</td>\n",
       "    </tr>\n",
       "    <tr>\n",
       "      <th>rating_count_ver</th>\n",
       "      <td>0.006337</td>\n",
       "      <td>-0.018012</td>\n",
       "      <td>0.163645</td>\n",
       "      <td>1.000000</td>\n",
       "      <td>0.068754</td>\n",
       "      <td>0.077840</td>\n",
       "      <td>0.037951</td>\n",
       "      <td>0.024333</td>\n",
       "      <td>0.013287</td>\n",
       "    </tr>\n",
       "    <tr>\n",
       "      <th>user_rating</th>\n",
       "      <td>0.066256</td>\n",
       "      <td>0.046601</td>\n",
       "      <td>0.083310</td>\n",
       "      <td>0.068754</td>\n",
       "      <td>1.000000</td>\n",
       "      <td>0.774140</td>\n",
       "      <td>-0.042451</td>\n",
       "      <td>0.265671</td>\n",
       "      <td>0.170976</td>\n",
       "    </tr>\n",
       "    <tr>\n",
       "      <th>user_rating_ver</th>\n",
       "      <td>0.086075</td>\n",
       "      <td>0.025173</td>\n",
       "      <td>0.088744</td>\n",
       "      <td>0.077840</td>\n",
       "      <td>0.774140</td>\n",
       "      <td>1.000000</td>\n",
       "      <td>-0.018901</td>\n",
       "      <td>0.275737</td>\n",
       "      <td>0.175580</td>\n",
       "    </tr>\n",
       "    <tr>\n",
       "      <th>sup_devices_num</th>\n",
       "      <td>-0.118347</td>\n",
       "      <td>-0.115361</td>\n",
       "      <td>0.008832</td>\n",
       "      <td>0.037951</td>\n",
       "      <td>-0.042451</td>\n",
       "      <td>-0.018901</td>\n",
       "      <td>1.000000</td>\n",
       "      <td>-0.037728</td>\n",
       "      <td>-0.041681</td>\n",
       "    </tr>\n",
       "    <tr>\n",
       "      <th>ipadSc_urls_num</th>\n",
       "      <td>0.152697</td>\n",
       "      <td>0.066100</td>\n",
       "      <td>0.015734</td>\n",
       "      <td>0.024333</td>\n",
       "      <td>0.265671</td>\n",
       "      <td>0.275737</td>\n",
       "      <td>-0.037728</td>\n",
       "      <td>1.000000</td>\n",
       "      <td>0.088378</td>\n",
       "    </tr>\n",
       "    <tr>\n",
       "      <th>lang_num</th>\n",
       "      <td>0.004614</td>\n",
       "      <td>-0.006713</td>\n",
       "      <td>0.137675</td>\n",
       "      <td>0.013287</td>\n",
       "      <td>0.170976</td>\n",
       "      <td>0.175580</td>\n",
       "      <td>-0.041681</td>\n",
       "      <td>0.088378</td>\n",
       "      <td>1.000000</td>\n",
       "    </tr>\n",
       "  </tbody>\n",
       "</table>\n",
       "</div>"
      ],
      "text/plain": [
       "                  size_bytes     price  rating_count_tot  rating_count_ver  \\\n",
       "size_bytes          1.000000  0.182392          0.004486          0.006337   \n",
       "price               0.182392  1.000000         -0.039044         -0.018012   \n",
       "rating_count_tot    0.004486 -0.039044          1.000000          0.163645   \n",
       "rating_count_ver    0.006337 -0.018012          0.163645          1.000000   \n",
       "user_rating         0.066256  0.046601          0.083310          0.068754   \n",
       "user_rating_ver     0.086075  0.025173          0.088744          0.077840   \n",
       "sup_devices_num    -0.118347 -0.115361          0.008832          0.037951   \n",
       "ipadSc_urls_num     0.152697  0.066100          0.015734          0.024333   \n",
       "lang_num            0.004614 -0.006713          0.137675          0.013287   \n",
       "\n",
       "                  user_rating  user_rating_ver  sup_devices_num  \\\n",
       "size_bytes           0.066256         0.086075        -0.118347   \n",
       "price                0.046601         0.025173        -0.115361   \n",
       "rating_count_tot     0.083310         0.088744         0.008832   \n",
       "rating_count_ver     0.068754         0.077840         0.037951   \n",
       "user_rating          1.000000         0.774140        -0.042451   \n",
       "user_rating_ver      0.774140         1.000000        -0.018901   \n",
       "sup_devices_num     -0.042451        -0.018901         1.000000   \n",
       "ipadSc_urls_num      0.265671         0.275737        -0.037728   \n",
       "lang_num             0.170976         0.175580        -0.041681   \n",
       "\n",
       "                  ipadSc_urls_num  lang_num  \n",
       "size_bytes               0.152697  0.004614  \n",
       "price                    0.066100 -0.006713  \n",
       "rating_count_tot         0.015734  0.137675  \n",
       "rating_count_ver         0.024333  0.013287  \n",
       "user_rating              0.265671  0.170976  \n",
       "user_rating_ver          0.275737  0.175580  \n",
       "sup_devices_num         -0.037728 -0.041681  \n",
       "ipadSc_urls_num          1.000000  0.088378  \n",
       "lang_num                 0.088378  1.000000  "
      ]
     },
     "execution_count": 32,
     "metadata": {},
     "output_type": "execute_result"
    }
   ],
   "source": [
    "df.corr()"
   ]
  },
  {
   "cell_type": "markdown",
   "metadata": {},
   "source": [
    "可以看到这些数值变量之间，只有 `user_rating` 和 `user_rating_ver` 之间的相关系数比较大，其他都没有超过 0.5 的情况。其他变量之间的线性相关性不大，我们使用其他可视化探索一下有没有其他数据规律。"
   ]
  },
  {
   "cell_type": "code",
   "execution_count": 33,
   "metadata": {},
   "outputs": [
    {
     "data": {
      "image/png": "[encoded data removed]",
      "text/plain": [
       "<Figure size 432x360 with 1 Axes>"
      ]
     },
     "metadata": {},
     "output_type": "display_data"
    }
   ],
   "source": [
    "df.boxplot(column=['price'], by='user_rating',\n",
    "           showfliers=False, showmeans=True, figsize=(6,5))\n",
    "plt.ylabel('Price');"
   ]
  },
  {
   "cell_type": "markdown",
   "metadata": {},
   "source": [
    "可以看到大部分评分的中位数都是免费的 0，说明免费应用占据了很大部分，不容易观察出收费应用的情况，所以筛选出收费应用来再探索一下："
   ]
  },
  {
   "cell_type": "code",
   "execution_count": 34,
   "metadata": {},
   "outputs": [
    {
     "data": {
      "image/png": "[encoded data removed]",
      "text/plain": [
       "<Figure size 432x360 with 1 Axes>"
      ]
     },
     "metadata": {},
     "output_type": "display_data"
    }
   ],
   "source": [
    "df[df['price']>0].boxplot(column=['price'],\n",
    "                          by='user_rating',figsize=(6,5))\n",
    "plt.ylim(0,60)\n",
    "plt.ylabel('Price');"
   ]
  },
  {
   "cell_type": "markdown",
   "metadata": {},
   "source": [
    "可以从图中看到，价格较高的一些离群值出现在 3.5 分以上的评分中比较多，0 分的情况下，也比 1-3 分的情况下要多。看箱线区域，0 分也与 3.5-4.5 的评分分布类似。这个现象比较有趣，猜测可能如果是价格较高的 APP，如果让用户失望，可能会更倾向于评 0 分，而不是一些中间的分数。"
   ]
  },
  {
   "cell_type": "code",
   "execution_count": 35,
   "metadata": {},
   "outputs": [
    {
     "data": {
      "image/png": "[encoded data removed]",
      "text/plain": [
       "<Figure size 432x288 with 1 Axes>"
      ]
     },
     "metadata": {},
     "output_type": "display_data"
    }
   ],
   "source": [
    "df.groupby('user_rating')['price'].max().plot.bar()\n",
    "plt.title('Top price for each rating score')\n",
    "plt.ylabel('Price');"
   ]
  },
  {
   "cell_type": "markdown",
   "metadata": {},
   "source": [
    "每个评分的最大值探索，可以看到，最高价格的几个APP都分布在0分以及3.5分以上。与箱线图的结论相似。\n",
    "### 探索游戏应用与价格的关系"
   ]
  },
  {
   "cell_type": "code",
   "execution_count": 36,
   "metadata": {},
   "outputs": [
    {
     "data": {
      "text/html": [
       "<div>\n",
       "<style scoped>\n",
       "    .dataframe tbody tr th:only-of-type {\n",
       "        vertical-align: middle;\n",
       "    }\n",
       "\n",
       "    .dataframe tbody tr th {\n",
       "        vertical-align: top;\n",
       "    }\n",
       "\n",
       "    .dataframe thead th {\n",
       "        text-align: right;\n",
       "    }\n",
       "</style>\n",
       "<table border=\"1\" class=\"dataframe\">\n",
       "  <thead>\n",
       "    <tr style=\"text-align: right;\">\n",
       "      <th>is_Game</th>\n",
       "      <th>Games</th>\n",
       "      <th>NotGames</th>\n",
       "    </tr>\n",
       "    <tr>\n",
       "      <th>price_cut</th>\n",
       "      <th></th>\n",
       "      <th></th>\n",
       "    </tr>\n",
       "  </thead>\n",
       "  <tbody>\n",
       "    <tr>\n",
       "      <th>Free</th>\n",
       "      <td>2257</td>\n",
       "      <td>1799</td>\n",
       "    </tr>\n",
       "    <tr>\n",
       "      <th>USD:0~5</th>\n",
       "      <td>1372</td>\n",
       "      <td>1331</td>\n",
       "    </tr>\n",
       "    <tr>\n",
       "      <th>USD:5~20</th>\n",
       "      <td>230</td>\n",
       "      <td>172</td>\n",
       "    </tr>\n",
       "    <tr>\n",
       "      <th>USD:20+</th>\n",
       "      <td>3</td>\n",
       "      <td>33</td>\n",
       "    </tr>\n",
       "  </tbody>\n",
       "</table>\n",
       "</div>"
      ],
      "text/plain": [
       "is_Game    Games  NotGames\n",
       "price_cut                 \n",
       "Free        2257      1799\n",
       "USD:0~5     1372      1331\n",
       "USD:5~20     230       172\n",
       "USD:20+        3        33"
      ]
     },
     "execution_count": 36,
     "metadata": {},
     "output_type": "execute_result"
    }
   ],
   "source": [
    "df.groupby(['price_cut','is_Game']).size().unstack()"
   ]
  },
  {
   "cell_type": "markdown",
   "metadata": {},
   "source": [
    "这样可以将长格式的数据转换为宽格式，用来制作组合状图对比："
   ]
  },
  {
   "cell_type": "code",
   "execution_count": 37,
   "metadata": {},
   "outputs": [
    {
     "data": {
      "image/png": "[encoded data removed]",
      "text/plain": [
       "<Figure size 576x360 with 1 Axes>"
      ]
     },
     "metadata": {},
     "output_type": "display_data"
    }
   ],
   "source": [
    "df.groupby(['price_cut','is_Game']).size().unstack().plot.bar(figsize=(8,5))\n",
    "plt.title('Price cut VS is_Game VS Count')\n",
    "plt.xticks(rotation=0) # 控制 x 轴刻度文字的角度\n",
    "plt.ylabel('Count');"
   ]
  },
  {
   "cell_type": "markdown",
   "metadata": {},
   "source": [
    "从图中可以看出，免费应用中游戏应用比例较高，非免费应用的分布较为接近。\n",
    "\n",
    "### 探索游戏应用与评分的关系"
   ]
  },
  {
   "cell_type": "code",
   "execution_count": 38,
   "metadata": {},
   "outputs": [
    {
     "data": {
      "text/html": [
       "<div>\n",
       "<style scoped>\n",
       "    .dataframe tbody tr th:only-of-type {\n",
       "        vertical-align: middle;\n",
       "    }\n",
       "\n",
       "    .dataframe tbody tr th {\n",
       "        vertical-align: top;\n",
       "    }\n",
       "\n",
       "    .dataframe thead th {\n",
       "        text-align: right;\n",
       "    }\n",
       "</style>\n",
       "<table border=\"1\" class=\"dataframe\">\n",
       "  <thead>\n",
       "    <tr style=\"text-align: right;\">\n",
       "      <th>is_Game</th>\n",
       "      <th>Games</th>\n",
       "      <th>NotGames</th>\n",
       "    </tr>\n",
       "    <tr>\n",
       "      <th>user_rating</th>\n",
       "      <th></th>\n",
       "      <th></th>\n",
       "    </tr>\n",
       "  </thead>\n",
       "  <tbody>\n",
       "    <tr>\n",
       "      <th>0.0</th>\n",
       "      <td>462</td>\n",
       "      <td>467</td>\n",
       "    </tr>\n",
       "    <tr>\n",
       "      <th>1.0</th>\n",
       "      <td>15</td>\n",
       "      <td>29</td>\n",
       "    </tr>\n",
       "    <tr>\n",
       "      <th>1.5</th>\n",
       "      <td>10</td>\n",
       "      <td>46</td>\n",
       "    </tr>\n",
       "    <tr>\n",
       "      <th>2.0</th>\n",
       "      <td>29</td>\n",
       "      <td>77</td>\n",
       "    </tr>\n",
       "    <tr>\n",
       "      <th>2.5</th>\n",
       "      <td>44</td>\n",
       "      <td>152</td>\n",
       "    </tr>\n",
       "    <tr>\n",
       "      <th>3.0</th>\n",
       "      <td>133</td>\n",
       "      <td>250</td>\n",
       "    </tr>\n",
       "    <tr>\n",
       "      <th>3.5</th>\n",
       "      <td>301</td>\n",
       "      <td>401</td>\n",
       "    </tr>\n",
       "    <tr>\n",
       "      <th>4.0</th>\n",
       "      <td>927</td>\n",
       "      <td>699</td>\n",
       "    </tr>\n",
       "    <tr>\n",
       "      <th>4.5</th>\n",
       "      <td>1664</td>\n",
       "      <td>999</td>\n",
       "    </tr>\n",
       "    <tr>\n",
       "      <th>5.0</th>\n",
       "      <td>277</td>\n",
       "      <td>215</td>\n",
       "    </tr>\n",
       "  </tbody>\n",
       "</table>\n",
       "</div>"
      ],
      "text/plain": [
       "is_Game      Games  NotGames\n",
       "user_rating                 \n",
       "0.0            462       467\n",
       "1.0             15        29\n",
       "1.5             10        46\n",
       "2.0             29        77\n",
       "2.5             44       152\n",
       "3.0            133       250\n",
       "3.5            301       401\n",
       "4.0            927       699\n",
       "4.5           1664       999\n",
       "5.0            277       215"
      ]
     },
     "execution_count": 38,
     "metadata": {},
     "output_type": "execute_result"
    }
   ],
   "source": [
    "df.groupby(['user_rating','is_Game']).size().unstack()"
   ]
  },
  {
   "cell_type": "code",
   "execution_count": 39,
   "metadata": {},
   "outputs": [
    {
     "data": {
      "image/png": "[encoded data removed]",
      "text/plain": [
       "<Figure size 576x360 with 1 Axes>"
      ]
     },
     "metadata": {},
     "output_type": "display_data"
    }
   ],
   "source": [
    "df.groupby(['user_rating','is_Game']).size().unstack().plot(figsize=(8,5))\n",
    "plt.title('is_Game VS user_rating VS Count')\n",
    "plt.ylabel('Count');"
   ]
  },
  {
   "cell_type": "markdown",
   "metadata": {},
   "source": [
    "图中可以看出，在3.5分之前，都是非游戏应用较多，3.5分之后则是游戏应用较多。"
   ]
  },
  {
   "cell_type": "markdown",
   "metadata": {},
   "source": [
    "## 总结\n",
    "\n",
    "- 所有 APP 中，大部分都小于 5 美元。免费应用占比为 56.4%，占据一半以上。\n",
    "- 经过散点图探索和相关系数的计算，可以看到价格和评分没有明显的线性相关性。在深入探索后，可以发现价格较高的 APP 的评分比较极端，0分或者 3.5分以上。猜测可能如果是价格较高的 APP，如果让用户失望，可能会更倾向于评 0 分，而不是一些中间的分数。\n",
    "- 免费应用中游戏应用比例较高，非免费应用中，游戏与非游戏类应用的比例则比较相似。\n",
    "- 游戏/非游戏类应用与评分的关系：在 3.5分之前，都是非游戏应用较多，3.5分之后则是游戏应用较多。\n",
    "\n",
    "### 局限性\n",
    "\n",
    "- 当前探索的问题主要集中在价格、评分、游戏分类这些特征，其他特征没有进行过多的探索。\n",
    "- 根据对 APP 商店的了解，一些新上架的应用，评价应该会比较少，有可能有一些偶然情况不能了解到，评分结合评分人数应该会有更加准确的信息。\n",
    "- 本次分析的过程只是使用了可视化探索和一些简单的统计计算，没有进行任何的显著性检验，所以目前的结论只是暂时的，还有进一步分析的可能性。\n"
   ]
  }
 ],
 "metadata": {
  "kernelspec": {
   "display_name": "Python 3",
   "language": "python",
   "name": "python3"
  },
  "language_info": {
   "codemirror_mode": {
    "name": "ipython",
    "version": 3
   },
   "file_extension": ".py",
   "mimetype": "text/x-python",
   "name": "python",
   "nbconvert_exporter": "python",
   "pygments_lexer": "ipython3",
   "version": "3.9.1"
  }
 },
 "nbformat": 4,
 "nbformat_minor": 4
}
