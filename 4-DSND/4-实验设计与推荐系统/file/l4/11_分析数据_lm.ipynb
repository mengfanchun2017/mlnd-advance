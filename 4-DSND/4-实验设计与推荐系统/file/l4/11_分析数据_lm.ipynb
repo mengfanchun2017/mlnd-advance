{
 "cells": [
  {
   "cell_type": "markdown",
   "metadata": {},
   "source": [
    "**同学的方法：**"
   ]
  },
  {
   "cell_type": "code",
   "execution_count": 1,
   "metadata": {
    "ExecuteTime": {
     "end_time": "2020-07-19T04:28:04.022594Z",
     "start_time": "2020-07-19T04:28:02.073804Z"
    }
   },
   "outputs": [],
   "source": [
    "import pandas as pd\n",
    "import scipy.stats as stats\n",
    "import numpy as np\n",
    "np.random.seed(42)"
   ]
  },
  {
   "cell_type": "code",
   "execution_count": 2,
   "metadata": {
    "ExecuteTime": {
     "end_time": "2020-07-19T04:28:04.047528Z",
     "start_time": "2020-07-19T04:28:04.023591Z"
    }
   },
   "outputs": [
    {
     "data": {
      "text/plain": [
       "(29, 7)"
      ]
     },
     "execution_count": 2,
     "metadata": {},
     "output_type": "execute_result"
    }
   ],
   "source": [
    "df = pd.read_csv('homepage-experiment-data.csv')\n",
    "df.shape"
   ]
  },
  {
   "cell_type": "code",
   "execution_count": 3,
   "metadata": {
    "ExecuteTime": {
     "end_time": "2020-07-19T04:28:04.067475Z",
     "start_time": "2020-07-19T04:28:04.050520Z"
    }
   },
   "outputs": [
    {
     "data": {
      "text/html": [
       "<div>\n",
       "<style scoped>\n",
       "    .dataframe tbody tr th:only-of-type {\n",
       "        vertical-align: middle;\n",
       "    }\n",
       "\n",
       "    .dataframe tbody tr th {\n",
       "        vertical-align: top;\n",
       "    }\n",
       "\n",
       "    .dataframe thead th {\n",
       "        text-align: right;\n",
       "    }\n",
       "</style>\n",
       "<table border=\"1\" class=\"dataframe\">\n",
       "  <thead>\n",
       "    <tr style=\"text-align: right;\">\n",
       "      <th></th>\n",
       "      <th>Day</th>\n",
       "      <th>Control Cookies</th>\n",
       "      <th>Control Downloads</th>\n",
       "      <th>Control Licenses</th>\n",
       "      <th>Experiment Cookies</th>\n",
       "      <th>Experiment Downloads</th>\n",
       "      <th>Experiment Licenses</th>\n",
       "    </tr>\n",
       "  </thead>\n",
       "  <tbody>\n",
       "    <tr>\n",
       "      <th>0</th>\n",
       "      <td>1</td>\n",
       "      <td>1764</td>\n",
       "      <td>246</td>\n",
       "      <td>1</td>\n",
       "      <td>1850</td>\n",
       "      <td>339</td>\n",
       "      <td>3</td>\n",
       "    </tr>\n",
       "    <tr>\n",
       "      <th>1</th>\n",
       "      <td>2</td>\n",
       "      <td>1541</td>\n",
       "      <td>234</td>\n",
       "      <td>2</td>\n",
       "      <td>1590</td>\n",
       "      <td>281</td>\n",
       "      <td>2</td>\n",
       "    </tr>\n",
       "    <tr>\n",
       "      <th>2</th>\n",
       "      <td>3</td>\n",
       "      <td>1457</td>\n",
       "      <td>240</td>\n",
       "      <td>1</td>\n",
       "      <td>1515</td>\n",
       "      <td>274</td>\n",
       "      <td>1</td>\n",
       "    </tr>\n",
       "    <tr>\n",
       "      <th>3</th>\n",
       "      <td>4</td>\n",
       "      <td>1587</td>\n",
       "      <td>224</td>\n",
       "      <td>1</td>\n",
       "      <td>1541</td>\n",
       "      <td>284</td>\n",
       "      <td>2</td>\n",
       "    </tr>\n",
       "    <tr>\n",
       "      <th>4</th>\n",
       "      <td>5</td>\n",
       "      <td>1606</td>\n",
       "      <td>253</td>\n",
       "      <td>2</td>\n",
       "      <td>1643</td>\n",
       "      <td>292</td>\n",
       "      <td>3</td>\n",
       "    </tr>\n",
       "  </tbody>\n",
       "</table>\n",
       "</div>"
      ],
      "text/plain": [
       "   Day  Control Cookies  Control Downloads  Control Licenses  \\\n",
       "0    1             1764                246                 1   \n",
       "1    2             1541                234                 2   \n",
       "2    3             1457                240                 1   \n",
       "3    4             1587                224                 1   \n",
       "4    5             1606                253                 2   \n",
       "\n",
       "   Experiment Cookies  Experiment Downloads  Experiment Licenses  \n",
       "0                1850                   339                    3  \n",
       "1                1590                   281                    2  \n",
       "2                1515                   274                    1  \n",
       "3                1541                   284                    2  \n",
       "4                1643                   292                    3  "
      ]
     },
     "execution_count": 3,
     "metadata": {},
     "output_type": "execute_result"
    }
   ],
   "source": [
    "df.head()"
   ]
  },
  {
   "cell_type": "code",
   "execution_count": 4,
   "metadata": {
    "ExecuteTime": {
     "end_time": "2020-07-19T04:28:04.089415Z",
     "start_time": "2020-07-19T04:28:04.070467Z"
    }
   },
   "outputs": [
    {
     "data": {
      "text/html": [
       "<div>\n",
       "<style scoped>\n",
       "    .dataframe tbody tr th:only-of-type {\n",
       "        vertical-align: middle;\n",
       "    }\n",
       "\n",
       "    .dataframe tbody tr th {\n",
       "        vertical-align: top;\n",
       "    }\n",
       "\n",
       "    .dataframe thead th {\n",
       "        text-align: right;\n",
       "    }\n",
       "</style>\n",
       "<table border=\"1\" class=\"dataframe\">\n",
       "  <thead>\n",
       "    <tr style=\"text-align: right;\">\n",
       "      <th></th>\n",
       "      <th>Day</th>\n",
       "      <th>Control Cookies</th>\n",
       "      <th>Control Downloads</th>\n",
       "      <th>Control Licenses</th>\n",
       "      <th>Experiment Cookies</th>\n",
       "      <th>Experiment Downloads</th>\n",
       "      <th>Experiment Licenses</th>\n",
       "      <th>Control Pct</th>\n",
       "      <th>Experiment Pct</th>\n",
       "      <th>pct</th>\n",
       "    </tr>\n",
       "  </thead>\n",
       "  <tbody>\n",
       "    <tr>\n",
       "      <th>0</th>\n",
       "      <td>1</td>\n",
       "      <td>1764</td>\n",
       "      <td>246</td>\n",
       "      <td>1</td>\n",
       "      <td>1850</td>\n",
       "      <td>339</td>\n",
       "      <td>3</td>\n",
       "      <td>0.139456</td>\n",
       "      <td>0.183243</td>\n",
       "      <td>0.161871</td>\n",
       "    </tr>\n",
       "    <tr>\n",
       "      <th>1</th>\n",
       "      <td>2</td>\n",
       "      <td>1541</td>\n",
       "      <td>234</td>\n",
       "      <td>2</td>\n",
       "      <td>1590</td>\n",
       "      <td>281</td>\n",
       "      <td>2</td>\n",
       "      <td>0.151849</td>\n",
       "      <td>0.176730</td>\n",
       "      <td>0.164484</td>\n",
       "    </tr>\n",
       "    <tr>\n",
       "      <th>2</th>\n",
       "      <td>3</td>\n",
       "      <td>1457</td>\n",
       "      <td>240</td>\n",
       "      <td>1</td>\n",
       "      <td>1515</td>\n",
       "      <td>274</td>\n",
       "      <td>1</td>\n",
       "      <td>0.164722</td>\n",
       "      <td>0.180858</td>\n",
       "      <td>0.172948</td>\n",
       "    </tr>\n",
       "    <tr>\n",
       "      <th>3</th>\n",
       "      <td>4</td>\n",
       "      <td>1587</td>\n",
       "      <td>224</td>\n",
       "      <td>1</td>\n",
       "      <td>1541</td>\n",
       "      <td>284</td>\n",
       "      <td>2</td>\n",
       "      <td>0.141147</td>\n",
       "      <td>0.184296</td>\n",
       "      <td>0.162404</td>\n",
       "    </tr>\n",
       "    <tr>\n",
       "      <th>4</th>\n",
       "      <td>5</td>\n",
       "      <td>1606</td>\n",
       "      <td>253</td>\n",
       "      <td>2</td>\n",
       "      <td>1643</td>\n",
       "      <td>292</td>\n",
       "      <td>3</td>\n",
       "      <td>0.157534</td>\n",
       "      <td>0.177724</td>\n",
       "      <td>0.167744</td>\n",
       "    </tr>\n",
       "  </tbody>\n",
       "</table>\n",
       "</div>"
      ],
      "text/plain": [
       "   Day  Control Cookies  Control Downloads  Control Licenses  \\\n",
       "0    1             1764                246                 1   \n",
       "1    2             1541                234                 2   \n",
       "2    3             1457                240                 1   \n",
       "3    4             1587                224                 1   \n",
       "4    5             1606                253                 2   \n",
       "\n",
       "   Experiment Cookies  Experiment Downloads  Experiment Licenses  Control Pct  \\\n",
       "0                1850                   339                    3     0.139456   \n",
       "1                1590                   281                    2     0.151849   \n",
       "2                1515                   274                    1     0.164722   \n",
       "3                1541                   284                    2     0.141147   \n",
       "4                1643                   292                    3     0.157534   \n",
       "\n",
       "   Experiment Pct       pct  \n",
       "0        0.183243  0.161871  \n",
       "1        0.176730  0.164484  \n",
       "2        0.180858  0.172948  \n",
       "3        0.184296  0.162404  \n",
       "4        0.177724  0.167744  "
      ]
     },
     "execution_count": 4,
     "metadata": {},
     "output_type": "execute_result"
    }
   ],
   "source": [
    "df['Control Pct'] = df['Control Downloads'] / df['Control Cookies']\n",
    "df['Experiment Pct'] = df['Experiment Downloads'] / df['Experiment Cookies']\n",
    "df[\"pct\"] = (df['Control Downloads'] + df['Experiment Downloads']) / (df['Control Cookies'] + df['Experiment Cookies'])\n",
    "df.head()"
   ]
  },
  {
   "cell_type": "code",
   "execution_count": 5,
   "metadata": {
    "ExecuteTime": {
     "end_time": "2020-07-19T04:28:04.097399Z",
     "start_time": "2020-07-19T04:28:04.092409Z"
    }
   },
   "outputs": [
    {
     "name": "stdout",
     "output_type": "stream",
     "text": [
      "0.17096758178935728\n"
     ]
    }
   ],
   "source": [
    "p_null = df.pct.mean()\n",
    "print(p_null)"
   ]
  },
  {
   "cell_type": "code",
   "execution_count": 6,
   "metadata": {
    "ExecuteTime": {
     "end_time": "2020-07-19T04:28:04.104376Z",
     "start_time": "2020-07-19T04:28:04.098392Z"
    }
   },
   "outputs": [
    {
     "data": {
      "text/plain": [
       "0.01958488332359863"
      ]
     },
     "execution_count": 6,
     "metadata": {},
     "output_type": "execute_result"
    }
   ],
   "source": [
    "n_diff =  np.mean(df['Experiment Pct'] - df['Control Pct'])\n",
    "n_diff"
   ]
  },
  {
   "cell_type": "code",
   "execution_count": 7,
   "metadata": {
    "ExecuteTime": {
     "end_time": "2020-07-19T04:28:04.111358Z",
     "start_time": "2020-07-19T04:28:04.105373Z"
    }
   },
   "outputs": [],
   "source": [
    "n_ctrl = np.mean(df['Control Cookies'])\n",
    "n_exp = np.mean(df['Experiment Cookies'])"
   ]
  },
  {
   "cell_type": "code",
   "execution_count": 8,
   "metadata": {
    "ExecuteTime": {
     "end_time": "2020-07-19T04:28:04.149256Z",
     "start_time": "2020-07-19T04:28:04.113351Z"
    }
   },
   "outputs": [
    {
     "data": {
      "text/plain": [
       "array([ 0.01114782, -0.00118655,  0.01490055, ...,  0.02575104,\n",
       "       -0.01846632,  0.02029668])"
      ]
     },
     "execution_count": 8,
     "metadata": {},
     "output_type": "execute_result"
    }
   ],
   "source": [
    "# simulate outcomes under null, compare to observed outcome\n",
    "n_trials = 200_000\n",
    "\n",
    "ctrl_clicks = np.random.binomial(n_ctrl, p_null, n_trials)\n",
    "exp_clicks = np.random.binomial(n_exp, p_null, n_trials)\n",
    "\n",
    "samples = exp_clicks / n_exp - ctrl_clicks / n_ctrl\n",
    "\n",
    "samples"
   ]
  },
  {
   "cell_type": "code",
   "execution_count": 9,
   "metadata": {
    "ExecuteTime": {
     "end_time": "2020-07-19T04:28:04.156238Z",
     "start_time": "2020-07-19T04:28:04.150253Z"
    }
   },
   "outputs": [
    {
     "name": "stdout",
     "output_type": "stream",
     "text": [
      "0.07078\n"
     ]
    }
   ],
   "source": [
    "print((samples >= n_diff).mean())"
   ]
  },
  {
   "cell_type": "markdown",
   "metadata": {},
   "source": [
    "**测试方法：**"
   ]
  },
  {
   "cell_type": "code",
   "execution_count": 10,
   "metadata": {
    "ExecuteTime": {
     "end_time": "2020-07-19T04:28:04.164216Z",
     "start_time": "2020-07-19T04:28:04.157235Z"
    }
   },
   "outputs": [],
   "source": [
    "# 读入数据\n",
    "df = pd.read_csv('homepage-experiment-data.csv')"
   ]
  },
  {
   "cell_type": "code",
   "execution_count": 11,
   "metadata": {
    "ExecuteTime": {
     "end_time": "2020-07-19T04:28:04.183165Z",
     "start_time": "2020-07-19T04:28:04.167208Z"
    }
   },
   "outputs": [
    {
     "data": {
      "text/html": [
       "<div>\n",
       "<style scoped>\n",
       "    .dataframe tbody tr th:only-of-type {\n",
       "        vertical-align: middle;\n",
       "    }\n",
       "\n",
       "    .dataframe tbody tr th {\n",
       "        vertical-align: top;\n",
       "    }\n",
       "\n",
       "    .dataframe thead th {\n",
       "        text-align: right;\n",
       "    }\n",
       "</style>\n",
       "<table border=\"1\" class=\"dataframe\">\n",
       "  <thead>\n",
       "    <tr style=\"text-align: right;\">\n",
       "      <th></th>\n",
       "      <th>Day</th>\n",
       "      <th>Control Cookies</th>\n",
       "      <th>Control Downloads</th>\n",
       "      <th>Control Licenses</th>\n",
       "      <th>Experiment Cookies</th>\n",
       "      <th>Experiment Downloads</th>\n",
       "      <th>Experiment Licenses</th>\n",
       "      <th>down_cpct</th>\n",
       "      <th>down_epct</th>\n",
       "      <th>down_diff</th>\n",
       "    </tr>\n",
       "  </thead>\n",
       "  <tbody>\n",
       "    <tr>\n",
       "      <th>0</th>\n",
       "      <td>1</td>\n",
       "      <td>1764</td>\n",
       "      <td>246</td>\n",
       "      <td>1</td>\n",
       "      <td>1850</td>\n",
       "      <td>339</td>\n",
       "      <td>3</td>\n",
       "      <td>0.139456</td>\n",
       "      <td>0.183243</td>\n",
       "      <td>0.043787</td>\n",
       "    </tr>\n",
       "    <tr>\n",
       "      <th>1</th>\n",
       "      <td>2</td>\n",
       "      <td>1541</td>\n",
       "      <td>234</td>\n",
       "      <td>2</td>\n",
       "      <td>1590</td>\n",
       "      <td>281</td>\n",
       "      <td>2</td>\n",
       "      <td>0.151849</td>\n",
       "      <td>0.176730</td>\n",
       "      <td>0.024880</td>\n",
       "    </tr>\n",
       "    <tr>\n",
       "      <th>2</th>\n",
       "      <td>3</td>\n",
       "      <td>1457</td>\n",
       "      <td>240</td>\n",
       "      <td>1</td>\n",
       "      <td>1515</td>\n",
       "      <td>274</td>\n",
       "      <td>1</td>\n",
       "      <td>0.164722</td>\n",
       "      <td>0.180858</td>\n",
       "      <td>0.016136</td>\n",
       "    </tr>\n",
       "    <tr>\n",
       "      <th>3</th>\n",
       "      <td>4</td>\n",
       "      <td>1587</td>\n",
       "      <td>224</td>\n",
       "      <td>1</td>\n",
       "      <td>1541</td>\n",
       "      <td>284</td>\n",
       "      <td>2</td>\n",
       "      <td>0.141147</td>\n",
       "      <td>0.184296</td>\n",
       "      <td>0.043149</td>\n",
       "    </tr>\n",
       "    <tr>\n",
       "      <th>4</th>\n",
       "      <td>5</td>\n",
       "      <td>1606</td>\n",
       "      <td>253</td>\n",
       "      <td>2</td>\n",
       "      <td>1643</td>\n",
       "      <td>292</td>\n",
       "      <td>3</td>\n",
       "      <td>0.157534</td>\n",
       "      <td>0.177724</td>\n",
       "      <td>0.020189</td>\n",
       "    </tr>\n",
       "  </tbody>\n",
       "</table>\n",
       "</div>"
      ],
      "text/plain": [
       "   Day  Control Cookies  Control Downloads  Control Licenses  \\\n",
       "0    1             1764                246                 1   \n",
       "1    2             1541                234                 2   \n",
       "2    3             1457                240                 1   \n",
       "3    4             1587                224                 1   \n",
       "4    5             1606                253                 2   \n",
       "\n",
       "   Experiment Cookies  Experiment Downloads  Experiment Licenses  down_cpct  \\\n",
       "0                1850                   339                    3   0.139456   \n",
       "1                1590                   281                    2   0.151849   \n",
       "2                1515                   274                    1   0.164722   \n",
       "3                1541                   284                    2   0.141147   \n",
       "4                1643                   292                    3   0.157534   \n",
       "\n",
       "   down_epct  down_diff  \n",
       "0   0.183243   0.043787  \n",
       "1   0.176730   0.024880  \n",
       "2   0.180858   0.016136  \n",
       "3   0.184296   0.043149  \n",
       "4   0.177724   0.020189  "
      ]
     },
     "execution_count": 11,
     "metadata": {},
     "output_type": "execute_result"
    }
   ],
   "source": [
    "df['down_cpct'] = df['Control Downloads'] / df['Control Cookies']\n",
    "df['down_epct'] = df['Experiment Downloads'] / df['Experiment Cookies']\n",
    "df['down_diff'] = df['down_epct'] - df['down_cpct']\n",
    "#df['down_diff'] = (df['Control Downloads'] + df['Experiment Downloads']) / (df['Control Cookies'] + df['Experiment Cookies'])\n",
    "df.head()"
   ]
  },
  {
   "cell_type": "code",
   "execution_count": 12,
   "metadata": {
    "ExecuteTime": {
     "end_time": "2020-07-19T04:28:04.197128Z",
     "start_time": "2020-07-19T04:28:04.185160Z"
    }
   },
   "outputs": [
    {
     "data": {
      "text/plain": [
       "NormaltestResult(statistic=0.32437244363680806, pvalue=0.8502828485778031)"
      ]
     },
     "execution_count": 12,
     "metadata": {},
     "output_type": "execute_result"
    }
   ],
   "source": [
    "# 对两列差进行正态分布检验\n",
    "import scipy.stats as stats\n",
    "\n",
    "stats.normaltest(df['down_diff'],axis=0)\n",
    "#结果是不正态分布，所以后续使用自助法（对数据分布无要求）"
   ]
  },
  {
   "cell_type": "code",
   "execution_count": 13,
   "metadata": {
    "ExecuteTime": {
     "end_time": "2020-07-19T04:28:10.447685Z",
     "start_time": "2020-07-19T04:28:04.198125Z"
    }
   },
   "outputs": [],
   "source": [
    "# 自助法\n",
    "## 先设定要模拟的两列数据\n",
    "con_mean, exp_mean = [], []\n",
    "\n",
    "## 通过自助法模拟1w遍，记录并存储每一遍的mean值\n",
    "for _ in range(10000):\n",
    "    sample = df.sample(df.shape[0], replace=True)\n",
    "    # 上面用了 df.shape[0] 定义 sample 的值（和实际值相同）\n",
    "    con_mean.append(sample.down_cpct.mean())\n",
    "    exp_mean.append(sample.down_epct.mean())\n",
    "\n",
    "# 将两个值求差看diff\n",
    "## 注意因为 list 无法做矢量减法，需要转换为 dataframe格式，也方便做图\n",
    "diffs = pd.Series(con_mean) - pd.Series(exp_mean)\n",
    "#当然也可以用 array 格式，看个人习惯\n",
    "#diffs = np.array(con_mean) - np.array(incon_mean)\n",
    "\n",
    "#diffs 也可以放在循环里面完成\n",
    "#我个人习惯是放在之后计算，自助法只模拟原数据相关的featrue\n",
    "#用自助法的好处是不用管样本的分布，因为取平均值后就是正态分布"
   ]
  },
  {
   "cell_type": "code",
   "execution_count": 14,
   "metadata": {
    "ExecuteTime": {
     "end_time": "2020-07-19T04:28:11.005195Z",
     "start_time": "2020-07-19T04:28:10.448682Z"
    }
   },
   "outputs": [
    {
     "name": "stdout",
     "output_type": "stream",
     "text": [
      "-0.024476328908500173 -0.014639322580862995\n"
     ]
    },
    {
     "data": {
      "image/png": "[encoded data removed]",
      "text/plain": [
       "<Figure size 432x288 with 1 Axes>"
      ]
     },
     "metadata": {
      "needs_background": "light"
     },
     "output_type": "display_data"
    }
   ],
   "source": [
    "# 可视化\n",
    "import matplotlib.pyplot as plt\n",
    "%matplotlib inline\n",
    "\n",
    "## 边界线\n",
    "low, high = np.percentile(diffs, 2.5), np.percentile(diffs, 97.5)\n",
    "print(low, high)\n",
    "\n",
    "## 画图\n",
    "plt.hist(diffs);\n",
    "plt.axvline(x=low, color='r', linewidth=1);\n",
    "plt.axvline(x=high, color='r', linewidth=1);"
   ]
  },
  {
   "cell_type": "code",
   "execution_count": 15,
   "metadata": {
    "ExecuteTime": {
     "end_time": "2020-07-19T04:28:11.215632Z",
     "start_time": "2020-07-19T04:28:11.007190Z"
    }
   },
   "outputs": [
    {
     "data": {
      "image/png": "[encoded data removed]",
      "text/plain": [
       "<Figure size 432x288 with 1 Axes>"
      ]
     },
     "metadata": {
      "needs_background": "light"
     },
     "output_type": "display_data"
    }
   ],
   "source": [
    "## 计算P值\n",
    "null_diffs = np.random.normal(0, np.std(diffs), 10000)\n",
    "\n",
    "plt.hist(diffs)\n",
    "plt.hist(null_diffs);"
   ]
  },
  {
   "cell_type": "code",
   "execution_count": 16,
   "metadata": {
    "ExecuteTime": {
     "end_time": "2020-07-19T04:28:11.221616Z",
     "start_time": "2020-07-19T04:28:11.217627Z"
    }
   },
   "outputs": [
    {
     "name": "stdout",
     "output_type": "stream",
     "text": [
      "0.0 0.5 True\n"
     ]
    }
   ],
   "source": [
    "p = (diffs > null_diffs).mean()\n",
    "a = 0.5\n",
    "significant = p < a\n",
    "\n",
    "print(p, a, significant)\n",
    "\n",
    "# 结果非常小，说明下载量的改善具有显著性"
   ]
  },
  {
   "cell_type": "code",
   "execution_count": 17,
   "metadata": {
    "ExecuteTime": {
     "end_time": "2020-07-19T04:28:11.241562Z",
     "start_time": "2020-07-19T04:28:11.223611Z"
    }
   },
   "outputs": [
    {
     "data": {
      "text/html": [
       "<div>\n",
       "<style scoped>\n",
       "    .dataframe tbody tr th:only-of-type {\n",
       "        vertical-align: middle;\n",
       "    }\n",
       "\n",
       "    .dataframe tbody tr th {\n",
       "        vertical-align: top;\n",
       "    }\n",
       "\n",
       "    .dataframe thead th {\n",
       "        text-align: right;\n",
       "    }\n",
       "</style>\n",
       "<table border=\"1\" class=\"dataframe\">\n",
       "  <thead>\n",
       "    <tr style=\"text-align: right;\">\n",
       "      <th></th>\n",
       "      <th>Day</th>\n",
       "      <th>Control Cookies</th>\n",
       "      <th>Control Downloads</th>\n",
       "      <th>Control Licenses</th>\n",
       "      <th>Experiment Cookies</th>\n",
       "      <th>Experiment Downloads</th>\n",
       "      <th>Experiment Licenses</th>\n",
       "      <th>down_cpct</th>\n",
       "      <th>down_epct</th>\n",
       "      <th>down_diff</th>\n",
       "      <th>lic_cpct</th>\n",
       "      <th>lic_epct</th>\n",
       "      <th>lic_diff</th>\n",
       "    </tr>\n",
       "  </thead>\n",
       "  <tbody>\n",
       "    <tr>\n",
       "      <th>0</th>\n",
       "      <td>1</td>\n",
       "      <td>1764</td>\n",
       "      <td>246</td>\n",
       "      <td>1</td>\n",
       "      <td>1850</td>\n",
       "      <td>339</td>\n",
       "      <td>3</td>\n",
       "      <td>0.139456</td>\n",
       "      <td>0.183243</td>\n",
       "      <td>0.043787</td>\n",
       "      <td>0.000567</td>\n",
       "      <td>0.001622</td>\n",
       "      <td>0.001055</td>\n",
       "    </tr>\n",
       "    <tr>\n",
       "      <th>1</th>\n",
       "      <td>2</td>\n",
       "      <td>1541</td>\n",
       "      <td>234</td>\n",
       "      <td>2</td>\n",
       "      <td>1590</td>\n",
       "      <td>281</td>\n",
       "      <td>2</td>\n",
       "      <td>0.151849</td>\n",
       "      <td>0.176730</td>\n",
       "      <td>0.024880</td>\n",
       "      <td>0.001298</td>\n",
       "      <td>0.001258</td>\n",
       "      <td>-0.000040</td>\n",
       "    </tr>\n",
       "    <tr>\n",
       "      <th>2</th>\n",
       "      <td>3</td>\n",
       "      <td>1457</td>\n",
       "      <td>240</td>\n",
       "      <td>1</td>\n",
       "      <td>1515</td>\n",
       "      <td>274</td>\n",
       "      <td>1</td>\n",
       "      <td>0.164722</td>\n",
       "      <td>0.180858</td>\n",
       "      <td>0.016136</td>\n",
       "      <td>0.000686</td>\n",
       "      <td>0.000660</td>\n",
       "      <td>-0.000026</td>\n",
       "    </tr>\n",
       "    <tr>\n",
       "      <th>3</th>\n",
       "      <td>4</td>\n",
       "      <td>1587</td>\n",
       "      <td>224</td>\n",
       "      <td>1</td>\n",
       "      <td>1541</td>\n",
       "      <td>284</td>\n",
       "      <td>2</td>\n",
       "      <td>0.141147</td>\n",
       "      <td>0.184296</td>\n",
       "      <td>0.043149</td>\n",
       "      <td>0.000630</td>\n",
       "      <td>0.001298</td>\n",
       "      <td>0.000668</td>\n",
       "    </tr>\n",
       "    <tr>\n",
       "      <th>4</th>\n",
       "      <td>5</td>\n",
       "      <td>1606</td>\n",
       "      <td>253</td>\n",
       "      <td>2</td>\n",
       "      <td>1643</td>\n",
       "      <td>292</td>\n",
       "      <td>3</td>\n",
       "      <td>0.157534</td>\n",
       "      <td>0.177724</td>\n",
       "      <td>0.020189</td>\n",
       "      <td>0.001245</td>\n",
       "      <td>0.001826</td>\n",
       "      <td>0.000581</td>\n",
       "    </tr>\n",
       "  </tbody>\n",
       "</table>\n",
       "</div>"
      ],
      "text/plain": [
       "   Day  Control Cookies  Control Downloads  Control Licenses  \\\n",
       "0    1             1764                246                 1   \n",
       "1    2             1541                234                 2   \n",
       "2    3             1457                240                 1   \n",
       "3    4             1587                224                 1   \n",
       "4    5             1606                253                 2   \n",
       "\n",
       "   Experiment Cookies  Experiment Downloads  Experiment Licenses  down_cpct  \\\n",
       "0                1850                   339                    3   0.139456   \n",
       "1                1590                   281                    2   0.151849   \n",
       "2                1515                   274                    1   0.164722   \n",
       "3                1541                   284                    2   0.141147   \n",
       "4                1643                   292                    3   0.157534   \n",
       "\n",
       "   down_epct  down_diff  lic_cpct  lic_epct  lic_diff  \n",
       "0   0.183243   0.043787  0.000567  0.001622  0.001055  \n",
       "1   0.176730   0.024880  0.001298  0.001258 -0.000040  \n",
       "2   0.180858   0.016136  0.000686  0.000660 -0.000026  \n",
       "3   0.184296   0.043149  0.000630  0.001298  0.000668  \n",
       "4   0.177724   0.020189  0.001245  0.001826  0.000581  "
      ]
     },
     "execution_count": 17,
     "metadata": {},
     "output_type": "execute_result"
    }
   ],
   "source": [
    "# 同样计算 License 购买量\n",
    "\n",
    "df['lic_cpct'] = df['Control Licenses'] / df['Control Cookies']\n",
    "df['lic_epct'] = df['Experiment Licenses'] / df['Experiment Cookies']\n",
    "df['lic_diff'] = df['lic_epct'] - df['lic_cpct']\n",
    "df.head()"
   ]
  },
  {
   "cell_type": "code",
   "execution_count": 18,
   "metadata": {
    "ExecuteTime": {
     "end_time": "2020-07-19T04:28:17.809726Z",
     "start_time": "2020-07-19T04:28:11.243558Z"
    }
   },
   "outputs": [
    {
     "name": "stdout",
     "output_type": "stream",
     "text": [
      "-0.0016839912069649015 0.0009207004702869716\n"
     ]
    },
    {
     "data": {
      "image/png": "[encoded data removed]",
      "text/plain": [
       "<Figure size 432x288 with 1 Axes>"
      ]
     },
     "metadata": {
      "needs_background": "light"
     },
     "output_type": "display_data"
    }
   ],
   "source": [
    "# 自助法\n",
    "## 先设定要模拟的两列数据\n",
    "con_mean, exp_mean = [], []\n",
    "\n",
    "## 通过自助法模拟1w遍，记录并存储每一遍的mean值\n",
    "for _ in range(10000):\n",
    "    sample = df.sample(df.shape[0], replace=True)\n",
    "    # 上面用了 df.shape[0] 定义 sample 的值（和实际值相同）\n",
    "    con_mean.append(sample.lic_cpct.mean())\n",
    "    exp_mean.append(sample.lic_epct.mean())\n",
    "\n",
    "# 将两个值求差看diff\n",
    "## 注意因为 list 无法做矢量减法，需要转换为 dataframe格式，也方便做图\n",
    "diffs = pd.Series(con_mean) - pd.Series(exp_mean)\n",
    "#当然也可以用 array 格式，看个人习惯\n",
    "#diffs = np.array(con_mean) - np.array(incon_mean)\n",
    "\n",
    "#diffs 也可以放在循环里面完成\n",
    "#我个人习惯是放在之后计算，自助法只模拟原数据相关的featrue\n",
    "#用自助法的好处是不用管样本的分布，因为取平均值后就是正态分布\n",
    "\n",
    "# 可视化\n",
    "import matplotlib.pyplot as plt\n",
    "%matplotlib inline\n",
    "\n",
    "## 边界线\n",
    "low, high = np.percentile(diffs, 2.5), np.percentile(diffs, 97.5)\n",
    "print(low, high)\n",
    "\n",
    "## 画图\n",
    "plt.hist(diffs);\n",
    "plt.axvline(x=low, color='r', linewidth=1);\n",
    "plt.axvline(x=high, color='r', linewidth=1);"
   ]
  },
  {
   "cell_type": "code",
   "execution_count": 19,
   "metadata": {
    "ExecuteTime": {
     "end_time": "2020-07-19T04:28:17.980244Z",
     "start_time": "2020-07-19T04:28:17.811694Z"
    }
   },
   "outputs": [
    {
     "data": {
      "image/png": "[encoded data removed]",
      "text/plain": [
       "<Figure size 432x288 with 1 Axes>"
      ]
     },
     "metadata": {
      "needs_background": "light"
     },
     "output_type": "display_data"
    }
   ],
   "source": [
    "## 计算P值\n",
    "null_diffs = np.random.normal(0, np.std(diffs), 10000)\n",
    "\n",
    "plt.hist(diffs)\n",
    "plt.hist(null_diffs);"
   ]
  },
  {
   "cell_type": "code",
   "execution_count": 20,
   "metadata": {
    "ExecuteTime": {
     "end_time": "2020-07-19T04:28:17.989219Z",
     "start_time": "2020-07-19T04:28:17.981241Z"
    }
   },
   "outputs": [
    {
     "name": "stdout",
     "output_type": "stream",
     "text": [
      "0.3431 0.05 False\n"
     ]
    }
   ],
   "source": [
    "p = (diffs > null_diffs).mean()\n",
    "a = 0.05\n",
    "significant = p < a\n",
    "\n",
    "print(p, a, significant)\n",
    "\n",
    "# P值较大，说明购买License的改善不具有显著性"
   ]
  }
 ],
 "metadata": {
  "kernelspec": {
   "display_name": "Python 3",
   "language": "python",
   "name": "python3"
  },
  "language_info": {
   "codemirror_mode": {
    "name": "ipython",
    "version": 3
   },
   "file_extension": ".py",
   "mimetype": "text/x-python",
   "name": "python",
   "nbconvert_exporter": "python",
   "pygments_lexer": "ipython3",
   "version": "3.8.2"
  },
  "latex_envs": {
   "LaTeX_envs_menu_present": true,
   "autoclose": false,
   "autocomplete": true,
   "bibliofile": "biblio.bib",
   "cite_by": "apalike",
   "current_citInitial": 1,
   "eqLabelWithNumbers": true,
   "eqNumInitial": 1,
   "hotkeys": {
    "equation": "Ctrl-E",
    "itemize": "Ctrl-I"
   },
   "labels_anchors": false,
   "latex_user_defs": false,
   "report_style_numbering": false,
   "user_envs_cfg": false
  },
  "toc": {
   "base_numbering": 1,
   "nav_menu": {},
   "number_sections": true,
   "sideBar": true,
   "skip_h1_title": false,
   "title_cell": "Table of Contents",
   "title_sidebar": "Contents",
   "toc_cell": false,
   "toc_position": {},
   "toc_section_display": true,
   "toc_window_display": false
  }
 },
 "nbformat": 4,
 "nbformat_minor": 4
}
